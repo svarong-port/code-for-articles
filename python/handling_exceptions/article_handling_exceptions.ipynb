{
 "cells": [
  {
   "cell_type": "markdown",
   "id": "0c983700",
   "metadata": {},
   "source": [
    "# Code for Handling Exceptions in Python"
   ]
  },
  {
   "cell_type": "markdown",
   "id": "63d7bd42",
   "metadata": {},
   "source": [
    "## 1. try, except"
   ]
  },
  {
   "cell_type": "code",
   "execution_count": 42,
   "id": "4adcc9ea",
   "metadata": {},
   "outputs": [
    {
     "ename": "ValueError",
     "evalue": "could not convert string to float: 'one thousand'",
     "output_type": "error",
     "traceback": [
      "\u001b[31m---------------------------------------------------------------------------\u001b[39m",
      "\u001b[31mValueError\u001b[39m                                Traceback (most recent call last)",
      "\u001b[36mCell\u001b[39m\u001b[36m \u001b[39m\u001b[32mIn[42]\u001b[39m\u001b[32m, line 7\u001b[39m\n\u001b[32m      4\u001b[39m payment = \u001b[33m\"\u001b[39m\u001b[33mone thousand\u001b[39m\u001b[33m\"\u001b[39m\n\u001b[32m      6\u001b[39m \u001b[38;5;66;03m# Validate payment\u001b[39;00m\n\u001b[32m----> \u001b[39m\u001b[32m7\u001b[39m \u001b[38;5;28;01mif\u001b[39;00m \u001b[38;5;28;43mfloat\u001b[39;49m\u001b[43m(\u001b[49m\u001b[43mpayment\u001b[49m\u001b[43m)\u001b[49m < \u001b[32m0\u001b[39m:\n\u001b[32m      8\u001b[39m     \u001b[38;5;28mprint\u001b[39m(\u001b[33m\"\u001b[39m\u001b[33mPayment cannot be negative.\u001b[39m\u001b[33m\"\u001b[39m)\n",
      "\u001b[31mValueError\u001b[39m: could not convert string to float: 'one thousand'"
     ]
    }
   ],
   "source": [
    "# Without try, except\n",
    "\n",
    "# Set payment\n",
    "payment = \"one thousand\"\n",
    "\n",
    "# Validate payment\n",
    "if float(payment) < 0:\n",
    "    print(\"Payment cannot be negative.\")"
   ]
  },
  {
   "cell_type": "code",
   "execution_count": null,
   "id": "afee51af",
   "metadata": {},
   "outputs": [
    {
     "name": "stdout",
     "output_type": "stream",
     "text": [
      "Payment must be a number.\n"
     ]
    }
   ],
   "source": [
    "# Code that may raise excpetion\n",
    "try:\n",
    "    if float(payment) < 0:\n",
    "        print(\"Payment cannot be negative.\")\n",
    "\n",
    "# Print when exception occurs\n",
    "except ValueError:\n",
    "    print(\"Payment must be a number.\")"
   ]
  },
  {
   "cell_type": "markdown",
   "id": "e83231fe",
   "metadata": {},
   "source": [
    "## 2. else"
   ]
  },
  {
   "cell_type": "code",
   "execution_count": null,
   "id": "8573c6c2",
   "metadata": {},
   "outputs": [
    {
     "name": "stdout",
     "output_type": "stream",
     "text": [
      "Processing payment ...\n"
     ]
    }
   ],
   "source": [
    "# Set payment\n",
    "payment = 500\n",
    "\n",
    "# Code that may raise excpetion\n",
    "try:\n",
    "    if float(payment) < 0:\n",
    "        print(\"Payment cannot be negative.\")\n",
    "\n",
    "# Print when exception occurs\n",
    "except ValueError as e:\n",
    "    print(f\"Error: {e}\")\n",
    "\n",
    "# Print when exception does not occur\n",
    "else:\n",
    "    print(\"Processing payment ...\")"
   ]
  },
  {
   "cell_type": "markdown",
   "id": "95a0cfe6",
   "metadata": {},
   "source": [
    "## 3. finally"
   ]
  },
  {
   "cell_type": "code",
   "execution_count": null,
   "id": "0ea2836f",
   "metadata": {},
   "outputs": [
    {
     "name": "stdout",
     "output_type": "stream",
     "text": [
      "Processing payment ...\n",
      "Thank you for your payment.\n"
     ]
    }
   ],
   "source": [
    "# Set payment\n",
    "payment = 500\n",
    "\n",
    "# Code that may raise excpetion\n",
    "try:\n",
    "    if float(payment) < 0:\n",
    "        print(\"Payment cannot be negative.\")\n",
    "\n",
    "# Print when exception occurs\n",
    "except ValueError as e:\n",
    "    print(f\"Error: {e}\")\n",
    "\n",
    "# Print when exception does not occur\n",
    "else:\n",
    "    print(\"Processing payment ...\")\n",
    "\n",
    "# Print no matter what\n",
    "finally:\n",
    "    print(\"Thank you for your payment.\")"
   ]
  },
  {
   "cell_type": "markdown",
   "id": "c0837b3d",
   "metadata": {},
   "source": [
    "## 4. raise"
   ]
  },
  {
   "cell_type": "code",
   "execution_count": null,
   "id": "7ce104ce",
   "metadata": {},
   "outputs": [
    {
     "name": "stdout",
     "output_type": "stream",
     "text": [
      "Error: Payment cannot be negative.\n",
      "Thank you for your payment.\n"
     ]
    }
   ],
   "source": [
    "# Set payment\n",
    "payment = -50\n",
    "\n",
    "# Code that may raise excpetion\n",
    "try:\n",
    "    if not isinstance(payment, (int, float)):\n",
    "        raise TypeError(\"Payment must be a number.\")\n",
    "    if payment < 0:\n",
    "        raise ValueError(\"Payment cannot be negative.\")\n",
    "\n",
    "# Print when exception occurs\n",
    "except (TypeError, ValueError) as e:\n",
    "    print(f\"Error: {e}\")\n",
    "\n",
    "# Print when exception does not occur\n",
    "else:\n",
    "    print(\"Processing payment ...\")\n",
    "\n",
    "# Print no matter what\n",
    "finally:\n",
    "    print(\"Thank you for your payment.\")"
   ]
  },
  {
   "cell_type": "markdown",
   "id": "d870ee9f",
   "metadata": {},
   "source": [
    "## 5. Put Them All Together"
   ]
  },
  {
   "cell_type": "code",
   "execution_count": null,
   "id": "517ab874",
   "metadata": {},
   "outputs": [
    {
     "name": "stdout",
     "output_type": "stream",
     "text": [
      "Alex paying one thousand.\n",
      "Error: Payment must be a number.\n",
      "Thank you for your payment.\n",
      "\n",
      " -------------------------------------------------- \n",
      "\n",
      "Barbara paying -50.\n",
      "Error: Payment cannot be negative.\n",
      "Thank you for your payment.\n",
      "\n",
      " -------------------------------------------------- \n",
      "\n",
      "Carter paying 500.\n",
      "Processing payment ...\n",
      "Thank you for your payment.\n",
      "\n",
      " -------------------------------------------------- \n",
      "\n"
     ]
    }
   ],
   "source": [
    "# Set payments\n",
    "payments = {\n",
    "    \"Alex\": \"one thousand\",\n",
    "    \"Barbara\": -50,\n",
    "    \"Carter\": 500\n",
    "}\n",
    "\n",
    "# Loop through payments\n",
    "for name, payment in payments.items():\n",
    "    \n",
    "    # Print name and payment\n",
    "    print(f\"{name} paying {payment}.\")\n",
    "    \n",
    "    # Code that may raise exception\n",
    "    try:\n",
    "        if not isinstance(payment, (int, float)):\n",
    "            raise TypeError(\"Payment must be a number.\")\n",
    "        if payment < 0:\n",
    "            raise ValueError(\"Payment cannot be negative.\")\n",
    "\n",
    "    # Print when exception occurs\n",
    "    except (TypeError, ValueError) as e:\n",
    "        print(f\"Error: {e}\")\n",
    "\n",
    "    # Print when exception does not occur\n",
    "    else:\n",
    "        print(\"Processing payment ...\")\n",
    "\n",
    "    # Print no matter what\n",
    "    finally:\n",
    "        print(\"Thank you for your payment.\")\n",
    "        \n",
    "    # Print divider\n",
    "    print(\"\\n -------------------------------------------------- \\n\")"
   ]
  }
 ],
 "metadata": {
  "kernelspec": {
   "display_name": "Python 3",
   "language": "python",
   "name": "python3"
  },
  "language_info": {
   "codemirror_mode": {
    "name": "ipython",
    "version": 3
   },
   "file_extension": ".py",
   "mimetype": "text/x-python",
   "name": "python",
   "nbconvert_exporter": "python",
   "pygments_lexer": "ipython3",
   "version": "3.13.5"
  }
 },
 "nbformat": 4,
 "nbformat_minor": 5
}
