{
 "cells": [
  {
   "cell_type": "markdown",
   "metadata": {},
   "source": [
    "# Code for Machine Learning With tidymodels (Regression)"
   ]
  },
  {
   "cell_type": "markdown",
   "metadata": {},
   "source": [
    "Author: Shinin Varongchayakul\n",
    "\n",
    "Date: 20 Mar 2025\n",
    "\n",
    "Language: R"
   ]
  },
  {
   "cell_type": "markdown",
   "metadata": {},
   "source": [
    "## Step 0. Prepare the Packages & Dataset"
   ]
  },
  {
   "cell_type": "markdown",
   "metadata": {},
   "source": [
    "### Install and Load the Library"
   ]
  },
  {
   "cell_type": "code",
   "execution_count": 29,
   "metadata": {
    "vscode": {
     "languageId": "r"
    }
   },
   "outputs": [
    {
     "name": "stderr",
     "output_type": "stream",
     "text": [
      "Warning message:\n",
      "\"package 'tidymodels' is in use and will not be installed\"\n",
      "Warning message:\n",
      "\"package 'MASS' is in use and will not be installed\"\n",
      "Warning message:\n",
      "\"package 'dplyr' is in use and will not be installed\"\n"
     ]
    }
   ],
   "source": [
    "# Install\n",
    "install.packages(\"tidymodels\")\n",
    "install.packages(\"MASS\")\n",
    "install.packages(\"dplyr\")"
   ]
  },
  {
   "cell_type": "code",
   "execution_count": 1,
   "metadata": {
    "vscode": {
     "languageId": "r"
    }
   },
   "outputs": [
    {
     "name": "stderr",
     "output_type": "stream",
     "text": [
      "── \u001b[1mAttaching packages\u001b[22m ────────────────────────────────────── tidymodels 1.3.0 ──\n",
      "\n",
      "\u001b[32m✔\u001b[39m \u001b[34mbroom       \u001b[39m 1.0.7     \u001b[32m✔\u001b[39m \u001b[34mrecipes     \u001b[39m 1.2.0\n",
      "\u001b[32m✔\u001b[39m \u001b[34mdials       \u001b[39m 1.4.0     \u001b[32m✔\u001b[39m \u001b[34mrsample     \u001b[39m 1.2.1\n",
      "\u001b[32m✔\u001b[39m \u001b[34mdplyr       \u001b[39m 1.1.4     \u001b[32m✔\u001b[39m \u001b[34mtibble      \u001b[39m 3.2.1\n",
      "\u001b[32m✔\u001b[39m \u001b[34mggplot2     \u001b[39m 3.5.1     \u001b[32m✔\u001b[39m \u001b[34mtidyr       \u001b[39m 1.3.1\n",
      "\u001b[32m✔\u001b[39m \u001b[34minfer       \u001b[39m 1.0.7     \u001b[32m✔\u001b[39m \u001b[34mtune        \u001b[39m 1.3.0\n",
      "\u001b[32m✔\u001b[39m \u001b[34mmodeldata   \u001b[39m 1.4.0     \u001b[32m✔\u001b[39m \u001b[34mworkflows   \u001b[39m 1.2.0\n",
      "\u001b[32m✔\u001b[39m \u001b[34mparsnip     \u001b[39m 1.3.1     \u001b[32m✔\u001b[39m \u001b[34mworkflowsets\u001b[39m 1.1.0\n",
      "\u001b[32m✔\u001b[39m \u001b[34mpurrr       \u001b[39m 1.0.4     \u001b[32m✔\u001b[39m \u001b[34myardstick   \u001b[39m 1.3.2\n",
      "\n",
      "── \u001b[1mConflicts\u001b[22m ───────────────────────────────────────── tidymodels_conflicts() ──\n",
      "\u001b[31m✖\u001b[39m \u001b[34mpurrr\u001b[39m::\u001b[32mdiscard()\u001b[39m masks \u001b[34mscales\u001b[39m::discard()\n",
      "\u001b[31m✖\u001b[39m \u001b[34mdplyr\u001b[39m::\u001b[32mfilter()\u001b[39m  masks \u001b[34mstats\u001b[39m::filter()\n",
      "\u001b[31m✖\u001b[39m \u001b[34mdplyr\u001b[39m::\u001b[32mlag()\u001b[39m     masks \u001b[34mstats\u001b[39m::lag()\n",
      "\u001b[31m✖\u001b[39m \u001b[34mrecipes\u001b[39m::\u001b[32mstep()\u001b[39m  masks \u001b[34mstats\u001b[39m::step()\n",
      "\n",
      "\n",
      "Attaching package: 'MASS'\n",
      "\n",
      "\n",
      "The following object is masked from 'package:dplyr':\n",
      "\n",
      "    select\n",
      "\n",
      "\n"
     ]
    }
   ],
   "source": [
    "# Load\n",
    "library(tidymodels)\n",
    "library(MASS)\n",
    "library(dplyr)"
   ]
  },
  {
   "cell_type": "markdown",
   "metadata": {},
   "source": [
    "### Load the Dataset"
   ]
  },
  {
   "cell_type": "code",
   "execution_count": 2,
   "metadata": {
    "vscode": {
     "languageId": "r"
    }
   },
   "outputs": [
    {
     "data": {
      "text/html": [
       "<table class=\"dataframe\">\n",
       "<caption>A data.frame: 6 × 14</caption>\n",
       "<thead>\n",
       "\t<tr><th></th><th scope=col>crim</th><th scope=col>zn</th><th scope=col>indus</th><th scope=col>chas</th><th scope=col>nox</th><th scope=col>rm</th><th scope=col>age</th><th scope=col>dis</th><th scope=col>rad</th><th scope=col>tax</th><th scope=col>ptratio</th><th scope=col>black</th><th scope=col>lstat</th><th scope=col>medv</th></tr>\n",
       "\t<tr><th></th><th scope=col>&lt;dbl&gt;</th><th scope=col>&lt;dbl&gt;</th><th scope=col>&lt;dbl&gt;</th><th scope=col>&lt;int&gt;</th><th scope=col>&lt;dbl&gt;</th><th scope=col>&lt;dbl&gt;</th><th scope=col>&lt;dbl&gt;</th><th scope=col>&lt;dbl&gt;</th><th scope=col>&lt;int&gt;</th><th scope=col>&lt;dbl&gt;</th><th scope=col>&lt;dbl&gt;</th><th scope=col>&lt;dbl&gt;</th><th scope=col>&lt;dbl&gt;</th><th scope=col>&lt;dbl&gt;</th></tr>\n",
       "</thead>\n",
       "<tbody>\n",
       "\t<tr><th scope=row>1</th><td>0.00632</td><td>18</td><td>2.31</td><td>0</td><td>0.538</td><td>6.575</td><td>65.2</td><td>4.0900</td><td>1</td><td>296</td><td>15.3</td><td>396.90</td><td>4.98</td><td>24.0</td></tr>\n",
       "\t<tr><th scope=row>2</th><td>0.02731</td><td> 0</td><td>7.07</td><td>0</td><td>0.469</td><td>6.421</td><td>78.9</td><td>4.9671</td><td>2</td><td>242</td><td>17.8</td><td>396.90</td><td>9.14</td><td>21.6</td></tr>\n",
       "\t<tr><th scope=row>3</th><td>0.02729</td><td> 0</td><td>7.07</td><td>0</td><td>0.469</td><td>7.185</td><td>61.1</td><td>4.9671</td><td>2</td><td>242</td><td>17.8</td><td>392.83</td><td>4.03</td><td>34.7</td></tr>\n",
       "\t<tr><th scope=row>4</th><td>0.03237</td><td> 0</td><td>2.18</td><td>0</td><td>0.458</td><td>6.998</td><td>45.8</td><td>6.0622</td><td>3</td><td>222</td><td>18.7</td><td>394.63</td><td>2.94</td><td>33.4</td></tr>\n",
       "\t<tr><th scope=row>5</th><td>0.06905</td><td> 0</td><td>2.18</td><td>0</td><td>0.458</td><td>7.147</td><td>54.2</td><td>6.0622</td><td>3</td><td>222</td><td>18.7</td><td>396.90</td><td>5.33</td><td>36.2</td></tr>\n",
       "\t<tr><th scope=row>6</th><td>0.02985</td><td> 0</td><td>2.18</td><td>0</td><td>0.458</td><td>6.430</td><td>58.7</td><td>6.0622</td><td>3</td><td>222</td><td>18.7</td><td>394.12</td><td>5.21</td><td>28.7</td></tr>\n",
       "</tbody>\n",
       "</table>\n"
      ],
      "text/latex": [
       "A data.frame: 6 × 14\n",
       "\\begin{tabular}{r|llllllllllllll}\n",
       "  & crim & zn & indus & chas & nox & rm & age & dis & rad & tax & ptratio & black & lstat & medv\\\\\n",
       "  & <dbl> & <dbl> & <dbl> & <int> & <dbl> & <dbl> & <dbl> & <dbl> & <int> & <dbl> & <dbl> & <dbl> & <dbl> & <dbl>\\\\\n",
       "\\hline\n",
       "\t1 & 0.00632 & 18 & 2.31 & 0 & 0.538 & 6.575 & 65.2 & 4.0900 & 1 & 296 & 15.3 & 396.90 & 4.98 & 24.0\\\\\n",
       "\t2 & 0.02731 &  0 & 7.07 & 0 & 0.469 & 6.421 & 78.9 & 4.9671 & 2 & 242 & 17.8 & 396.90 & 9.14 & 21.6\\\\\n",
       "\t3 & 0.02729 &  0 & 7.07 & 0 & 0.469 & 7.185 & 61.1 & 4.9671 & 2 & 242 & 17.8 & 392.83 & 4.03 & 34.7\\\\\n",
       "\t4 & 0.03237 &  0 & 2.18 & 0 & 0.458 & 6.998 & 45.8 & 6.0622 & 3 & 222 & 18.7 & 394.63 & 2.94 & 33.4\\\\\n",
       "\t5 & 0.06905 &  0 & 2.18 & 0 & 0.458 & 7.147 & 54.2 & 6.0622 & 3 & 222 & 18.7 & 396.90 & 5.33 & 36.2\\\\\n",
       "\t6 & 0.02985 &  0 & 2.18 & 0 & 0.458 & 6.430 & 58.7 & 6.0622 & 3 & 222 & 18.7 & 394.12 & 5.21 & 28.7\\\\\n",
       "\\end{tabular}\n"
      ],
      "text/markdown": [
       "\n",
       "A data.frame: 6 × 14\n",
       "\n",
       "| <!--/--> | crim &lt;dbl&gt; | zn &lt;dbl&gt; | indus &lt;dbl&gt; | chas &lt;int&gt; | nox &lt;dbl&gt; | rm &lt;dbl&gt; | age &lt;dbl&gt; | dis &lt;dbl&gt; | rad &lt;int&gt; | tax &lt;dbl&gt; | ptratio &lt;dbl&gt; | black &lt;dbl&gt; | lstat &lt;dbl&gt; | medv &lt;dbl&gt; |\n",
       "|---|---|---|---|---|---|---|---|---|---|---|---|---|---|---|\n",
       "| 1 | 0.00632 | 18 | 2.31 | 0 | 0.538 | 6.575 | 65.2 | 4.0900 | 1 | 296 | 15.3 | 396.90 | 4.98 | 24.0 |\n",
       "| 2 | 0.02731 |  0 | 7.07 | 0 | 0.469 | 6.421 | 78.9 | 4.9671 | 2 | 242 | 17.8 | 396.90 | 9.14 | 21.6 |\n",
       "| 3 | 0.02729 |  0 | 7.07 | 0 | 0.469 | 7.185 | 61.1 | 4.9671 | 2 | 242 | 17.8 | 392.83 | 4.03 | 34.7 |\n",
       "| 4 | 0.03237 |  0 | 2.18 | 0 | 0.458 | 6.998 | 45.8 | 6.0622 | 3 | 222 | 18.7 | 394.63 | 2.94 | 33.4 |\n",
       "| 5 | 0.06905 |  0 | 2.18 | 0 | 0.458 | 7.147 | 54.2 | 6.0622 | 3 | 222 | 18.7 | 396.90 | 5.33 | 36.2 |\n",
       "| 6 | 0.02985 |  0 | 2.18 | 0 | 0.458 | 6.430 | 58.7 | 6.0622 | 3 | 222 | 18.7 | 394.12 | 5.21 | 28.7 |\n",
       "\n"
      ],
      "text/plain": [
       "  crim    zn indus chas nox   rm    age  dis    rad tax ptratio black  lstat\n",
       "1 0.00632 18 2.31  0    0.538 6.575 65.2 4.0900 1   296 15.3    396.90 4.98 \n",
       "2 0.02731  0 7.07  0    0.469 6.421 78.9 4.9671 2   242 17.8    396.90 9.14 \n",
       "3 0.02729  0 7.07  0    0.469 7.185 61.1 4.9671 2   242 17.8    392.83 4.03 \n",
       "4 0.03237  0 2.18  0    0.458 6.998 45.8 6.0622 3   222 18.7    394.63 2.94 \n",
       "5 0.06905  0 2.18  0    0.458 7.147 54.2 6.0622 3   222 18.7    396.90 5.33 \n",
       "6 0.02985  0 2.18  0    0.458 6.430 58.7 6.0622 3   222 18.7    394.12 5.21 \n",
       "  medv\n",
       "1 24.0\n",
       "2 21.6\n",
       "3 34.7\n",
       "4 33.4\n",
       "5 36.2\n",
       "6 28.7"
      ]
     },
     "metadata": {},
     "output_type": "display_data"
    }
   ],
   "source": [
    "# Load the dataset\n",
    "data(Boston)\n",
    "\n",
    "# Preview\n",
    "head(Boston)"
   ]
  },
  {
   "cell_type": "code",
   "execution_count": 3,
   "metadata": {
    "vscode": {
     "languageId": "r"
    }
   },
   "outputs": [
    {
     "name": "stdout",
     "output_type": "stream",
     "text": [
      "Rows: 506\n",
      "Columns: 14\n",
      "$ crim    \u001b[3m\u001b[90m<dbl>\u001b[39m\u001b[23m 0.00632, 0.02731, 0.02729, 0.03237, 0.06905, 0.02985, 0.08829,…\n",
      "$ zn      \u001b[3m\u001b[90m<dbl>\u001b[39m\u001b[23m 18.0, 0.0, 0.0, 0.0, 0.0, 0.0, 12.5, 12.5, 12.5, 12.5, 12.5, 1…\n",
      "$ indus   \u001b[3m\u001b[90m<dbl>\u001b[39m\u001b[23m 2.31, 7.07, 7.07, 2.18, 2.18, 2.18, 7.87, 7.87, 7.87, 7.87, 7.…\n",
      "$ chas    \u001b[3m\u001b[90m<int>\u001b[39m\u001b[23m 0, 0, 0, 0, 0, 0, 0, 0, 0, 0, 0, 0, 0, 0, 0, 0, 0, 0, 0, 0, 0,…\n",
      "$ nox     \u001b[3m\u001b[90m<dbl>\u001b[39m\u001b[23m 0.538, 0.469, 0.469, 0.458, 0.458, 0.458, 0.524, 0.524, 0.524,…\n",
      "$ rm      \u001b[3m\u001b[90m<dbl>\u001b[39m\u001b[23m 6.575, 6.421, 7.185, 6.998, 7.147, 6.430, 6.012, 6.172, 5.631,…\n",
      "$ age     \u001b[3m\u001b[90m<dbl>\u001b[39m\u001b[23m 65.2, 78.9, 61.1, 45.8, 54.2, 58.7, 66.6, 96.1, 100.0, 85.9, 9…\n",
      "$ dis     \u001b[3m\u001b[90m<dbl>\u001b[39m\u001b[23m 4.0900, 4.9671, 4.9671, 6.0622, 6.0622, 6.0622, 5.5605, 5.9505…\n",
      "$ rad     \u001b[3m\u001b[90m<int>\u001b[39m\u001b[23m 1, 2, 2, 3, 3, 3, 5, 5, 5, 5, 5, 5, 5, 4, 4, 4, 4, 4, 4, 4, 4,…\n",
      "$ tax     \u001b[3m\u001b[90m<dbl>\u001b[39m\u001b[23m 296, 242, 242, 222, 222, 222, 311, 311, 311, 311, 311, 311, 31…\n",
      "$ ptratio \u001b[3m\u001b[90m<dbl>\u001b[39m\u001b[23m 15.3, 17.8, 17.8, 18.7, 18.7, 18.7, 15.2, 15.2, 15.2, 15.2, 15…\n",
      "$ black   \u001b[3m\u001b[90m<dbl>\u001b[39m\u001b[23m 396.90, 396.90, 392.83, 394.63, 396.90, 394.12, 395.60, 396.90…\n",
      "$ lstat   \u001b[3m\u001b[90m<dbl>\u001b[39m\u001b[23m 4.98, 9.14, 4.03, 2.94, 5.33, 5.21, 12.43, 19.15, 29.93, 17.10…\n",
      "$ medv    \u001b[3m\u001b[90m<dbl>\u001b[39m\u001b[23m 24.0, 21.6, 34.7, 33.4, 36.2, 28.7, 22.9, 27.1, 16.5, 18.9, 15…\n"
     ]
    }
   ],
   "source": [
    "# View the structure\n",
    "glimpse(Boston)"
   ]
  },
  {
   "cell_type": "markdown",
   "metadata": {},
   "source": [
    "### Prepare the Data for Regression Task"
   ]
  },
  {
   "cell_type": "code",
   "execution_count": 4,
   "metadata": {
    "vscode": {
     "languageId": "r"
    }
   },
   "outputs": [],
   "source": [
    "# Create a copy of Boston\n",
    "bt <- Boston"
   ]
  },
  {
   "cell_type": "code",
   "execution_count": 5,
   "metadata": {
    "vscode": {
     "languageId": "r"
    }
   },
   "outputs": [],
   "source": [
    "# Convert `chas` to factor\n",
    "bt$chas <- factor(bt$chas,\n",
    "                  levels = c(1, 0),\n",
    "                  labels = c(\"tract bounds river\", \"otherwise\"))"
   ]
  },
  {
   "cell_type": "code",
   "execution_count": 6,
   "metadata": {
    "vscode": {
     "languageId": "r"
    }
   },
   "outputs": [
    {
     "name": "stdout",
     "output_type": "stream",
     "text": [
      "Rows: 506\n",
      "Columns: 14\n",
      "$ crim    \u001b[3m\u001b[90m<dbl>\u001b[39m\u001b[23m 0.00632, 0.02731, 0.02729, 0.03237, 0.06905, 0.02985, 0.08829,…\n",
      "$ zn      \u001b[3m\u001b[90m<dbl>\u001b[39m\u001b[23m 18.0, 0.0, 0.0, 0.0, 0.0, 0.0, 12.5, 12.5, 12.5, 12.5, 12.5, 1…\n",
      "$ indus   \u001b[3m\u001b[90m<dbl>\u001b[39m\u001b[23m 2.31, 7.07, 7.07, 2.18, 2.18, 2.18, 7.87, 7.87, 7.87, 7.87, 7.…\n",
      "$ chas    \u001b[3m\u001b[90m<fct>\u001b[39m\u001b[23m otherwise, otherwise, otherwise, otherwise, otherwise, otherwi…\n",
      "$ nox     \u001b[3m\u001b[90m<dbl>\u001b[39m\u001b[23m 0.538, 0.469, 0.469, 0.458, 0.458, 0.458, 0.524, 0.524, 0.524,…\n",
      "$ rm      \u001b[3m\u001b[90m<dbl>\u001b[39m\u001b[23m 6.575, 6.421, 7.185, 6.998, 7.147, 6.430, 6.012, 6.172, 5.631,…\n",
      "$ age     \u001b[3m\u001b[90m<dbl>\u001b[39m\u001b[23m 65.2, 78.9, 61.1, 45.8, 54.2, 58.7, 66.6, 96.1, 100.0, 85.9, 9…\n",
      "$ dis     \u001b[3m\u001b[90m<dbl>\u001b[39m\u001b[23m 4.0900, 4.9671, 4.9671, 6.0622, 6.0622, 6.0622, 5.5605, 5.9505…\n",
      "$ rad     \u001b[3m\u001b[90m<int>\u001b[39m\u001b[23m 1, 2, 2, 3, 3, 3, 5, 5, 5, 5, 5, 5, 5, 4, 4, 4, 4, 4, 4, 4, 4,…\n",
      "$ tax     \u001b[3m\u001b[90m<dbl>\u001b[39m\u001b[23m 296, 242, 242, 222, 222, 222, 311, 311, 311, 311, 311, 311, 31…\n",
      "$ ptratio \u001b[3m\u001b[90m<dbl>\u001b[39m\u001b[23m 15.3, 17.8, 17.8, 18.7, 18.7, 18.7, 15.2, 15.2, 15.2, 15.2, 15…\n",
      "$ black   \u001b[3m\u001b[90m<dbl>\u001b[39m\u001b[23m 396.90, 396.90, 392.83, 394.63, 396.90, 394.12, 395.60, 396.90…\n",
      "$ lstat   \u001b[3m\u001b[90m<dbl>\u001b[39m\u001b[23m 4.98, 9.14, 4.03, 2.94, 5.33, 5.21, 12.43, 19.15, 29.93, 17.10…\n",
      "$ medv    \u001b[3m\u001b[90m<dbl>\u001b[39m\u001b[23m 24.0, 21.6, 34.7, 33.4, 36.2, 28.7, 22.9, 27.1, 16.5, 18.9, 15…\n"
     ]
    }
   ],
   "source": [
    "# Check the results\n",
    "glimpse(bt)"
   ]
  },
  {
   "cell_type": "markdown",
   "metadata": {},
   "source": [
    "## Step 1. Split the Data"
   ]
  },
  {
   "cell_type": "code",
   "execution_count": 7,
   "metadata": {
    "vscode": {
     "languageId": "r"
    }
   },
   "outputs": [],
   "source": [
    "# Create training index\n",
    "\n",
    "## Set seed for reproducibility\n",
    "set.seed(100)\n",
    "\n",
    "## Create index\n",
    "bt_split <- initial_split(bt,\n",
    "                          prop = 0.8,\n",
    "                          strata = medv)"
   ]
  },
  {
   "cell_type": "code",
   "execution_count": 8,
   "metadata": {
    "vscode": {
     "languageId": "r"
    }
   },
   "outputs": [],
   "source": [
    "# Create training and test sets\n",
    "\n",
    "## Training set\n",
    "bt_train <- training(bt_split)\n",
    "\n",
    "## Test set\n",
    "bt_test <- testing(bt_split)"
   ]
  },
  {
   "cell_type": "markdown",
   "metadata": {},
   "source": [
    "## Step 2. Prepare the Recipe"
   ]
  },
  {
   "cell_type": "code",
   "execution_count": 9,
   "metadata": {
    "vscode": {
     "languageId": "r"
    }
   },
   "outputs": [],
   "source": [
    "# Create a recipe\n",
    "bt_recipe <- recipe(medv ~ .,\n",
    "                    bt_train) |>\n",
    "                \n",
    "                ## Remove near-zero variance predictors\n",
    "                step_nzv(all_numeric_predictors()) |>\n",
    "\n",
    "                ## Handle multicollinearity\n",
    "                step_corr(all_numeric_predictors(),\n",
    "                          threshold = 0.8) |>\n",
    "\n",
    "                ## Dummy-code nominal predictors\n",
    "                step_dummy(all_nominal_predictors()) |>\n",
    "\n",
    "                ## Normalsie the predictors\n",
    "                step_normalize(all_numeric_predictors()) |>\n",
    "\n",
    "                ## Log-transform the outcome\n",
    "                step_log(all_outcomes())"
   ]
  },
  {
   "cell_type": "markdown",
   "metadata": {},
   "source": [
    "## Step 3. Prepare & Bake"
   ]
  },
  {
   "cell_type": "code",
   "execution_count": 10,
   "metadata": {
    "vscode": {
     "languageId": "r"
    }
   },
   "outputs": [],
   "source": [
    "# Prepare the recipe\n",
    "bt_recipe_prep <- prep(bt_recipe,\n",
    "                       data = bt_train)"
   ]
  },
  {
   "cell_type": "code",
   "execution_count": 11,
   "metadata": {
    "vscode": {
     "languageId": "r"
    }
   },
   "outputs": [],
   "source": [
    "# Bake the training and test sets\n",
    "\n",
    "## Training set\n",
    "bt_train_prep <- bake(bt_recipe_prep,\n",
    "                      new_data = NULL)\n",
    "\n",
    "## Test set\n",
    "bt_test_prep <- bake(bt_recipe_prep,\n",
    "                     new_data = bt_test)"
   ]
  },
  {
   "cell_type": "markdown",
   "metadata": {},
   "source": [
    "## Step 4. Instantiate the Model"
   ]
  },
  {
   "cell_type": "code",
   "execution_count": 12,
   "metadata": {
    "vscode": {
     "languageId": "r"
    }
   },
   "outputs": [],
   "source": [
    "# Instantiate decision tree\n",
    "dt_model <- decision_tree() |>\n",
    "\n",
    "    ## Set engine\n",
    "    set_engine(\"rpart\") |>\n",
    "\n",
    "    ## Set mode\n",
    "    set_mode(\"regression\")"
   ]
  },
  {
   "cell_type": "markdown",
   "metadata": {},
   "source": [
    "## Step 5. Train the Model"
   ]
  },
  {
   "cell_type": "code",
   "execution_count": 13,
   "metadata": {
    "vscode": {
     "languageId": "r"
    }
   },
   "outputs": [],
   "source": [
    "# Train the model\n",
    "dt_model_fit <- fit(dt_model,\n",
    "                    medv ~ .,\n",
    "                    data = bt_train_prep)"
   ]
  },
  {
   "cell_type": "markdown",
   "metadata": {},
   "source": [
    "## Step 6. Make Predictions"
   ]
  },
  {
   "cell_type": "code",
   "execution_count": 14,
   "metadata": {
    "vscode": {
     "languageId": "r"
    }
   },
   "outputs": [
    {
     "data": {
      "text/html": [
       "<table class=\"dataframe\">\n",
       "<caption>A tibble: 6 × 1</caption>\n",
       "<thead>\n",
       "\t<tr><th scope=col>.pred</th></tr>\n",
       "\t<tr><th scope=col>&lt;dbl&gt;</th></tr>\n",
       "</thead>\n",
       "<tbody>\n",
       "\t<tr><td>3.535555</td></tr>\n",
       "\t<tr><td>2.881556</td></tr>\n",
       "\t<tr><td>2.999022</td></tr>\n",
       "\t<tr><td>2.999022</td></tr>\n",
       "\t<tr><td>2.732528</td></tr>\n",
       "\t<tr><td>2.468922</td></tr>\n",
       "</tbody>\n",
       "</table>\n"
      ],
      "text/latex": [
       "A tibble: 6 × 1\n",
       "\\begin{tabular}{l}\n",
       " .pred\\\\\n",
       " <dbl>\\\\\n",
       "\\hline\n",
       "\t 3.535555\\\\\n",
       "\t 2.881556\\\\\n",
       "\t 2.999022\\\\\n",
       "\t 2.999022\\\\\n",
       "\t 2.732528\\\\\n",
       "\t 2.468922\\\\\n",
       "\\end{tabular}\n"
      ],
      "text/markdown": [
       "\n",
       "A tibble: 6 × 1\n",
       "\n",
       "| .pred &lt;dbl&gt; |\n",
       "|---|\n",
       "| 3.535555 |\n",
       "| 2.881556 |\n",
       "| 2.999022 |\n",
       "| 2.999022 |\n",
       "| 2.732528 |\n",
       "| 2.468922 |\n",
       "\n"
      ],
      "text/plain": [
       "  .pred   \n",
       "1 3.535555\n",
       "2 2.881556\n",
       "3 2.999022\n",
       "4 2.999022\n",
       "5 2.732528\n",
       "6 2.468922"
      ]
     },
     "metadata": {},
     "output_type": "display_data"
    }
   ],
   "source": [
    "# Predict the outcome\n",
    "y_pred <- predict(dt_model_fit,\n",
    "                  new_data = bt_test_prep,\n",
    "                  type = \"numeric\")\n",
    "\n",
    "# View the result\n",
    "head(y_pred)"
   ]
  },
  {
   "cell_type": "code",
   "execution_count": 15,
   "metadata": {
    "vscode": {
     "languageId": "r"
    }
   },
   "outputs": [
    {
     "data": {
      "text/html": [
       "<table class=\"dataframe\">\n",
       "<caption>A tibble: 6 × 2</caption>\n",
       "<thead>\n",
       "\t<tr><th scope=col>actual</th><th scope=col>predicted</th></tr>\n",
       "\t<tr><th scope=col>&lt;dbl&gt;</th><th scope=col>&lt;dbl&gt;</th></tr>\n",
       "</thead>\n",
       "<tbody>\n",
       "\t<tr><td>3.589059</td><td>3.535555</td></tr>\n",
       "\t<tr><td>2.803360</td><td>2.881556</td></tr>\n",
       "\t<tr><td>2.862201</td><td>2.999022</td></tr>\n",
       "\t<tr><td>2.975530</td><td>2.999022</td></tr>\n",
       "\t<tr><td>2.747271</td><td>2.732528</td></tr>\n",
       "\t<tr><td>2.541602</td><td>2.468922</td></tr>\n",
       "</tbody>\n",
       "</table>\n"
      ],
      "text/latex": [
       "A tibble: 6 × 2\n",
       "\\begin{tabular}{ll}\n",
       " actual & predicted\\\\\n",
       " <dbl> & <dbl>\\\\\n",
       "\\hline\n",
       "\t 3.589059 & 3.535555\\\\\n",
       "\t 2.803360 & 2.881556\\\\\n",
       "\t 2.862201 & 2.999022\\\\\n",
       "\t 2.975530 & 2.999022\\\\\n",
       "\t 2.747271 & 2.732528\\\\\n",
       "\t 2.541602 & 2.468922\\\\\n",
       "\\end{tabular}\n"
      ],
      "text/markdown": [
       "\n",
       "A tibble: 6 × 2\n",
       "\n",
       "| actual &lt;dbl&gt; | predicted &lt;dbl&gt; |\n",
       "|---|---|\n",
       "| 3.589059 | 3.535555 |\n",
       "| 2.803360 | 2.881556 |\n",
       "| 2.862201 | 2.999022 |\n",
       "| 2.975530 | 2.999022 |\n",
       "| 2.747271 | 2.732528 |\n",
       "| 2.541602 | 2.468922 |\n",
       "\n"
      ],
      "text/plain": [
       "  actual   predicted\n",
       "1 3.589059 3.535555 \n",
       "2 2.803360 2.881556 \n",
       "3 2.862201 2.999022 \n",
       "4 2.975530 2.999022 \n",
       "5 2.747271 2.732528 \n",
       "6 2.541602 2.468922 "
      ]
     },
     "metadata": {},
     "output_type": "display_data"
    }
   ],
   "source": [
    "# Store the results in a tibble\n",
    "dt_results <- tibble(actual = bt_test_prep$medv,\n",
    "                     predicted = y_pred$.pred)\n",
    "\n",
    "# View the tibble\n",
    "head(dt_results)"
   ]
  },
  {
   "cell_type": "markdown",
   "metadata": {},
   "source": [
    "## Step 7. Evaluate the Model"
   ]
  },
  {
   "cell_type": "code",
   "execution_count": 16,
   "metadata": {
    "vscode": {
     "languageId": "r"
    }
   },
   "outputs": [],
   "source": [
    "# Create a set of custom metrics\n",
    "dt_metrics <- metric_set(mae,\n",
    "                         rmse)"
   ]
  },
  {
   "cell_type": "code",
   "execution_count": 17,
   "metadata": {
    "vscode": {
     "languageId": "r"
    }
   },
   "outputs": [
    {
     "data": {
      "text/html": [
       "<table class=\"dataframe\">\n",
       "<caption>A tibble: 2 × 3</caption>\n",
       "<thead>\n",
       "\t<tr><th scope=col>.metric</th><th scope=col>.estimator</th><th scope=col>.estimate</th></tr>\n",
       "\t<tr><th scope=col>&lt;chr&gt;</th><th scope=col>&lt;chr&gt;</th><th scope=col>&lt;dbl&gt;</th></tr>\n",
       "</thead>\n",
       "<tbody>\n",
       "\t<tr><td>mae </td><td>standard</td><td>0.1420251</td></tr>\n",
       "\t<tr><td>rmse</td><td>standard</td><td>0.1879423</td></tr>\n",
       "</tbody>\n",
       "</table>\n"
      ],
      "text/latex": [
       "A tibble: 2 × 3\n",
       "\\begin{tabular}{lll}\n",
       " .metric & .estimator & .estimate\\\\\n",
       " <chr> & <chr> & <dbl>\\\\\n",
       "\\hline\n",
       "\t mae  & standard & 0.1420251\\\\\n",
       "\t rmse & standard & 0.1879423\\\\\n",
       "\\end{tabular}\n"
      ],
      "text/markdown": [
       "\n",
       "A tibble: 2 × 3\n",
       "\n",
       "| .metric &lt;chr&gt; | .estimator &lt;chr&gt; | .estimate &lt;dbl&gt; |\n",
       "|---|---|---|\n",
       "| mae  | standard | 0.1420251 |\n",
       "| rmse | standard | 0.1879423 |\n",
       "\n"
      ],
      "text/plain": [
       "  .metric .estimator .estimate\n",
       "1 mae     standard   0.1420251\n",
       "2 rmse    standard   0.1879423"
      ]
     },
     "metadata": {},
     "output_type": "display_data"
    }
   ],
   "source": [
    "# Apply the custom metric set\n",
    "dt_metrics(dt_results,\n",
    "           truth = actual,\n",
    "           estimate = predicted)"
   ]
  },
  {
   "cell_type": "markdown",
   "metadata": {},
   "source": [
    "## Step 8. Hyperparametre Tuning"
   ]
  },
  {
   "cell_type": "code",
   "execution_count": 18,
   "metadata": {
    "vscode": {
     "languageId": "r"
    }
   },
   "outputs": [],
   "source": [
    "# Create a tune model\n",
    "dt_tune <- decision_tree(cost_complexity = tune(),\n",
    "                         tree_depth = tune(),\n",
    "                         min_n = tune()) |>\n",
    "            \n",
    "            ## Set engine\n",
    "            set_engine(\"rpart\") |>\n",
    "\n",
    "            ## Set mode\n",
    "            set_mode(\"regression\")"
   ]
  },
  {
   "cell_type": "code",
   "execution_count": 19,
   "metadata": {
    "vscode": {
     "languageId": "r"
    }
   },
   "outputs": [],
   "source": [
    "# Create grid random\n",
    "dt_grid <- grid_random(cost_complexity(range = c(-5, 0), trans = log10_trans()),\n",
    "                       tree_depth(range = c(1, 20)),\n",
    "                       min_n(range = c(2, 50)),\n",
    "                       size = 20)"
   ]
  },
  {
   "cell_type": "code",
   "execution_count": 20,
   "metadata": {
    "vscode": {
     "languageId": "r"
    }
   },
   "outputs": [],
   "source": [
    "# Create v-fold cross validation\n",
    "\n",
    "## Set seed for reproducibility\n",
    "set.seed(100)\n",
    "\n",
    "# Create folds\n",
    "dt_cv <- vfold_cv(bt_train,\n",
    "                  v = 5,\n",
    "                  strata = medv)"
   ]
  },
  {
   "cell_type": "code",
   "execution_count": 21,
   "metadata": {
    "vscode": {
     "languageId": "r"
    }
   },
   "outputs": [],
   "source": [
    "# Create a workflow\n",
    "dt_wf <- workflow() |>\n",
    "\n",
    "            ## Add recipe\n",
    "            add_recipe(bt_recipe) |>\n",
    "\n",
    "            ## Add model\n",
    "            add_model(dt_tune)"
   ]
  },
  {
   "cell_type": "code",
   "execution_count": 22,
   "metadata": {
    "vscode": {
     "languageId": "r"
    }
   },
   "outputs": [],
   "source": [
    "# Tune the model\n",
    "dt_tune_results <- tune_grid(dt_wf,\n",
    "                             resamples = dt_cv,\n",
    "                             grid = dt_grid,\n",
    "                             metrics = dt_metrics)"
   ]
  },
  {
   "cell_type": "markdown",
   "metadata": {},
   "source": [
    "## Step 9. Select the Best Parametre Combination"
   ]
  },
  {
   "cell_type": "code",
   "execution_count": 23,
   "metadata": {
    "vscode": {
     "languageId": "r"
    }
   },
   "outputs": [
    {
     "data": {
      "text/html": [
       "<table class=\"dataframe\">\n",
       "<caption>A tibble: 5 × 9</caption>\n",
       "<thead>\n",
       "\t<tr><th scope=col>cost_complexity</th><th scope=col>tree_depth</th><th scope=col>min_n</th><th scope=col>.metric</th><th scope=col>.estimator</th><th scope=col>mean</th><th scope=col>n</th><th scope=col>std_err</th><th scope=col>.config</th></tr>\n",
       "\t<tr><th scope=col>&lt;dbl&gt;</th><th scope=col>&lt;int&gt;</th><th scope=col>&lt;int&gt;</th><th scope=col>&lt;chr&gt;</th><th scope=col>&lt;chr&gt;</th><th scope=col>&lt;dbl&gt;</th><th scope=col>&lt;int&gt;</th><th scope=col>&lt;dbl&gt;</th><th scope=col>&lt;chr&gt;</th></tr>\n",
       "</thead>\n",
       "<tbody>\n",
       "\t<tr><td>0.0047900531</td><td> 9</td><td>18</td><td>rmse</td><td>standard</td><td>0.2001291</td><td>5</td><td>0.004814137</td><td>Preprocessor1_Model16</td></tr>\n",
       "\t<tr><td>0.0003390114</td><td>17</td><td>16</td><td>rmse</td><td>standard</td><td>0.2019157</td><td>5</td><td>0.005244076</td><td>Preprocessor1_Model07</td></tr>\n",
       "\t<tr><td>0.0067354148</td><td>11</td><td> 7</td><td>rmse</td><td>standard</td><td>0.2028539</td><td>5</td><td>0.011383164</td><td>Preprocessor1_Model20</td></tr>\n",
       "\t<tr><td>0.0001850074</td><td> 5</td><td>22</td><td>rmse</td><td>standard</td><td>0.2032098</td><td>5</td><td>0.006986330</td><td>Preprocessor1_Model01</td></tr>\n",
       "\t<tr><td>0.0006427211</td><td>20</td><td>28</td><td>rmse</td><td>standard</td><td>0.2058226</td><td>5</td><td>0.004145649</td><td>Preprocessor1_Model06</td></tr>\n",
       "</tbody>\n",
       "</table>\n"
      ],
      "text/latex": [
       "A tibble: 5 × 9\n",
       "\\begin{tabular}{lllllllll}\n",
       " cost\\_complexity & tree\\_depth & min\\_n & .metric & .estimator & mean & n & std\\_err & .config\\\\\n",
       " <dbl> & <int> & <int> & <chr> & <chr> & <dbl> & <int> & <dbl> & <chr>\\\\\n",
       "\\hline\n",
       "\t 0.0047900531 &  9 & 18 & rmse & standard & 0.2001291 & 5 & 0.004814137 & Preprocessor1\\_Model16\\\\\n",
       "\t 0.0003390114 & 17 & 16 & rmse & standard & 0.2019157 & 5 & 0.005244076 & Preprocessor1\\_Model07\\\\\n",
       "\t 0.0067354148 & 11 &  7 & rmse & standard & 0.2028539 & 5 & 0.011383164 & Preprocessor1\\_Model20\\\\\n",
       "\t 0.0001850074 &  5 & 22 & rmse & standard & 0.2032098 & 5 & 0.006986330 & Preprocessor1\\_Model01\\\\\n",
       "\t 0.0006427211 & 20 & 28 & rmse & standard & 0.2058226 & 5 & 0.004145649 & Preprocessor1\\_Model06\\\\\n",
       "\\end{tabular}\n"
      ],
      "text/markdown": [
       "\n",
       "A tibble: 5 × 9\n",
       "\n",
       "| cost_complexity &lt;dbl&gt; | tree_depth &lt;int&gt; | min_n &lt;int&gt; | .metric &lt;chr&gt; | .estimator &lt;chr&gt; | mean &lt;dbl&gt; | n &lt;int&gt; | std_err &lt;dbl&gt; | .config &lt;chr&gt; |\n",
       "|---|---|---|---|---|---|---|---|---|\n",
       "| 0.0047900531 |  9 | 18 | rmse | standard | 0.2001291 | 5 | 0.004814137 | Preprocessor1_Model16 |\n",
       "| 0.0003390114 | 17 | 16 | rmse | standard | 0.2019157 | 5 | 0.005244076 | Preprocessor1_Model07 |\n",
       "| 0.0067354148 | 11 |  7 | rmse | standard | 0.2028539 | 5 | 0.011383164 | Preprocessor1_Model20 |\n",
       "| 0.0001850074 |  5 | 22 | rmse | standard | 0.2032098 | 5 | 0.006986330 | Preprocessor1_Model01 |\n",
       "| 0.0006427211 | 20 | 28 | rmse | standard | 0.2058226 | 5 | 0.004145649 | Preprocessor1_Model06 |\n",
       "\n"
      ],
      "text/plain": [
       "  cost_complexity tree_depth min_n .metric .estimator mean      n std_err    \n",
       "1 0.0047900531     9         18    rmse    standard   0.2001291 5 0.004814137\n",
       "2 0.0003390114    17         16    rmse    standard   0.2019157 5 0.005244076\n",
       "3 0.0067354148    11          7    rmse    standard   0.2028539 5 0.011383164\n",
       "4 0.0001850074     5         22    rmse    standard   0.2032098 5 0.006986330\n",
       "5 0.0006427211    20         28    rmse    standard   0.2058226 5 0.004145649\n",
       "  .config              \n",
       "1 Preprocessor1_Model16\n",
       "2 Preprocessor1_Model07\n",
       "3 Preprocessor1_Model20\n",
       "4 Preprocessor1_Model01\n",
       "5 Preprocessor1_Model06"
      ]
     },
     "metadata": {},
     "output_type": "display_data"
    }
   ],
   "source": [
    "# View the best parametre combination\n",
    "dt_tune_results |> show_best(metric = \"rmse\",\n",
    "                             n = 5)"
   ]
  },
  {
   "cell_type": "code",
   "execution_count": 24,
   "metadata": {
    "vscode": {
     "languageId": "r"
    }
   },
   "outputs": [],
   "source": [
    "# Select the best combination\n",
    "best_params <- select_best(dt_tune_results,\n",
    "                           metric = \"rmse\")"
   ]
  },
  {
   "cell_type": "code",
   "execution_count": 25,
   "metadata": {
    "vscode": {
     "languageId": "r"
    }
   },
   "outputs": [],
   "source": [
    "# Add the combination to the model\n",
    "dt_best_wf <- finalize_workflow(dt_wf,\n",
    "                                best_params)"
   ]
  },
  {
   "cell_type": "markdown",
   "metadata": {},
   "source": [
    "## Step 10. Fit the Best Model"
   ]
  },
  {
   "cell_type": "code",
   "execution_count": 26,
   "metadata": {
    "vscode": {
     "languageId": "r"
    }
   },
   "outputs": [],
   "source": [
    "# Fit the model\n",
    "dt_best_fit <- last_fit(dt_best_wf,\n",
    "                        split = bt_split,\n",
    "                        metrics = dt_metrics)"
   ]
  },
  {
   "cell_type": "markdown",
   "metadata": {},
   "source": [
    "## Step 11. Make Predictions With the Best Model"
   ]
  },
  {
   "cell_type": "code",
   "execution_count": 27,
   "metadata": {
    "vscode": {
     "languageId": "r"
    }
   },
   "outputs": [
    {
     "data": {
      "text/html": [
       "<table class=\"dataframe\">\n",
       "<caption>A tibble: 6 × 5</caption>\n",
       "<thead>\n",
       "\t<tr><th scope=col>.pred</th><th scope=col>id</th><th scope=col>.row</th><th scope=col>medv</th><th scope=col>.config</th></tr>\n",
       "\t<tr><th scope=col>&lt;dbl&gt;</th><th scope=col>&lt;chr&gt;</th><th scope=col>&lt;int&gt;</th><th scope=col>&lt;dbl&gt;</th><th scope=col>&lt;chr&gt;</th></tr>\n",
       "</thead>\n",
       "<tbody>\n",
       "\t<tr><td>3.535555</td><td>train/test split</td><td> 5</td><td>3.589059</td><td>Preprocessor1_Model1</td></tr>\n",
       "\t<tr><td>2.943970</td><td>train/test split</td><td> 9</td><td>2.803360</td><td>Preprocessor1_Model1</td></tr>\n",
       "\t<tr><td>2.999022</td><td>train/test split</td><td>18</td><td>2.862201</td><td>Preprocessor1_Model1</td></tr>\n",
       "\t<tr><td>2.999022</td><td>train/test split</td><td>22</td><td>2.975530</td><td>Preprocessor1_Model1</td></tr>\n",
       "\t<tr><td>2.732528</td><td>train/test split</td><td>25</td><td>2.747271</td><td>Preprocessor1_Model1</td></tr>\n",
       "\t<tr><td>2.468922</td><td>train/test split</td><td>31</td><td>2.541602</td><td>Preprocessor1_Model1</td></tr>\n",
       "</tbody>\n",
       "</table>\n"
      ],
      "text/latex": [
       "A tibble: 6 × 5\n",
       "\\begin{tabular}{lllll}\n",
       " .pred & id & .row & medv & .config\\\\\n",
       " <dbl> & <chr> & <int> & <dbl> & <chr>\\\\\n",
       "\\hline\n",
       "\t 3.535555 & train/test split &  5 & 3.589059 & Preprocessor1\\_Model1\\\\\n",
       "\t 2.943970 & train/test split &  9 & 2.803360 & Preprocessor1\\_Model1\\\\\n",
       "\t 2.999022 & train/test split & 18 & 2.862201 & Preprocessor1\\_Model1\\\\\n",
       "\t 2.999022 & train/test split & 22 & 2.975530 & Preprocessor1\\_Model1\\\\\n",
       "\t 2.732528 & train/test split & 25 & 2.747271 & Preprocessor1\\_Model1\\\\\n",
       "\t 2.468922 & train/test split & 31 & 2.541602 & Preprocessor1\\_Model1\\\\\n",
       "\\end{tabular}\n"
      ],
      "text/markdown": [
       "\n",
       "A tibble: 6 × 5\n",
       "\n",
       "| .pred &lt;dbl&gt; | id &lt;chr&gt; | .row &lt;int&gt; | medv &lt;dbl&gt; | .config &lt;chr&gt; |\n",
       "|---|---|---|---|---|\n",
       "| 3.535555 | train/test split |  5 | 3.589059 | Preprocessor1_Model1 |\n",
       "| 2.943970 | train/test split |  9 | 2.803360 | Preprocessor1_Model1 |\n",
       "| 2.999022 | train/test split | 18 | 2.862201 | Preprocessor1_Model1 |\n",
       "| 2.999022 | train/test split | 22 | 2.975530 | Preprocessor1_Model1 |\n",
       "| 2.732528 | train/test split | 25 | 2.747271 | Preprocessor1_Model1 |\n",
       "| 2.468922 | train/test split | 31 | 2.541602 | Preprocessor1_Model1 |\n",
       "\n"
      ],
      "text/plain": [
       "  .pred    id               .row medv     .config             \n",
       "1 3.535555 train/test split  5   3.589059 Preprocessor1_Model1\n",
       "2 2.943970 train/test split  9   2.803360 Preprocessor1_Model1\n",
       "3 2.999022 train/test split 18   2.862201 Preprocessor1_Model1\n",
       "4 2.999022 train/test split 22   2.975530 Preprocessor1_Model1\n",
       "5 2.732528 train/test split 25   2.747271 Preprocessor1_Model1\n",
       "6 2.468922 train/test split 31   2.541602 Preprocessor1_Model1"
      ]
     },
     "metadata": {},
     "output_type": "display_data"
    }
   ],
   "source": [
    "# Make predictions\n",
    "dt_best_predictions <- collect_predictions(dt_best_fit)\n",
    "\n",
    "# Preview the results\n",
    "head(dt_best_predictions)"
   ]
  },
  {
   "cell_type": "markdown",
   "metadata": {},
   "source": [
    "## Step 12. Evaluate the Best Model"
   ]
  },
  {
   "cell_type": "code",
   "execution_count": 28,
   "metadata": {
    "vscode": {
     "languageId": "r"
    }
   },
   "outputs": [
    {
     "data": {
      "text/html": [
       "<table class=\"dataframe\">\n",
       "<caption>A tibble: 2 × 4</caption>\n",
       "<thead>\n",
       "\t<tr><th scope=col>.metric</th><th scope=col>.estimator</th><th scope=col>.estimate</th><th scope=col>.config</th></tr>\n",
       "\t<tr><th scope=col>&lt;chr&gt;</th><th scope=col>&lt;chr&gt;</th><th scope=col>&lt;dbl&gt;</th><th scope=col>&lt;chr&gt;</th></tr>\n",
       "</thead>\n",
       "<tbody>\n",
       "\t<tr><td>mae </td><td>standard</td><td>0.1266422</td><td>Preprocessor1_Model1</td></tr>\n",
       "\t<tr><td>rmse</td><td>standard</td><td>0.1797016</td><td>Preprocessor1_Model1</td></tr>\n",
       "</tbody>\n",
       "</table>\n"
      ],
      "text/latex": [
       "A tibble: 2 × 4\n",
       "\\begin{tabular}{llll}\n",
       " .metric & .estimator & .estimate & .config\\\\\n",
       " <chr> & <chr> & <dbl> & <chr>\\\\\n",
       "\\hline\n",
       "\t mae  & standard & 0.1266422 & Preprocessor1\\_Model1\\\\\n",
       "\t rmse & standard & 0.1797016 & Preprocessor1\\_Model1\\\\\n",
       "\\end{tabular}\n"
      ],
      "text/markdown": [
       "\n",
       "A tibble: 2 × 4\n",
       "\n",
       "| .metric &lt;chr&gt; | .estimator &lt;chr&gt; | .estimate &lt;dbl&gt; | .config &lt;chr&gt; |\n",
       "|---|---|---|---|\n",
       "| mae  | standard | 0.1266422 | Preprocessor1_Model1 |\n",
       "| rmse | standard | 0.1797016 | Preprocessor1_Model1 |\n",
       "\n"
      ],
      "text/plain": [
       "  .metric .estimator .estimate .config             \n",
       "1 mae     standard   0.1266422 Preprocessor1_Model1\n",
       "2 rmse    standard   0.1797016 Preprocessor1_Model1"
      ]
     },
     "metadata": {},
     "output_type": "display_data"
    }
   ],
   "source": [
    "# Collect metrics\n",
    "collect_metrics(dt_best_fit)"
   ]
  }
 ],
 "metadata": {
  "kernelspec": {
   "display_name": "R",
   "language": "R",
   "name": "ir"
  },
  "language_info": {
   "codemirror_mode": "r",
   "file_extension": ".r",
   "mimetype": "text/x-r-source",
   "name": "R",
   "pygments_lexer": "r",
   "version": "4.4.3"
  }
 },
 "nbformat": 4,
 "nbformat_minor": 2
}
