{
 "cells": [
  {
   "cell_type": "markdown",
   "metadata": {},
   "source": [
    "# Code for Machine Learning With tidymodels"
   ]
  },
  {
   "cell_type": "markdown",
   "metadata": {},
   "source": [
    "Author: Shinin Varongchayakul\n",
    "\n",
    "Date: 20 Mar 2025\n",
    "\n",
    "Language: R"
   ]
  },
  {
   "cell_type": "markdown",
   "metadata": {},
   "source": [
    "## Step 0. Prepare the Packages & Dataset"
   ]
  },
  {
   "cell_type": "markdown",
   "metadata": {},
   "source": [
    "### Install and Load the Library"
   ]
  },
  {
   "cell_type": "code",
   "execution_count": null,
   "metadata": {
    "vscode": {
     "languageId": "r"
    }
   },
   "outputs": [],
   "source": [
    "# Install\n",
    "install.packages(\"tidymodels\")\n",
    "install.packages(\"MASS\")\n",
    "install.packages(\"dplyr\")"
   ]
  },
  {
   "cell_type": "code",
   "execution_count": 1,
   "metadata": {
    "vscode": {
     "languageId": "r"
    }
   },
   "outputs": [
    {
     "name": "stderr",
     "output_type": "stream",
     "text": [
      "── \u001b[1mAttaching packages\u001b[22m ────────────────────────────────────── tidymodels 1.3.0 ──\n",
      "\n",
      "\u001b[32m✔\u001b[39m \u001b[34mbroom       \u001b[39m 1.0.7     \u001b[32m✔\u001b[39m \u001b[34mrecipes     \u001b[39m 1.2.0\n",
      "\u001b[32m✔\u001b[39m \u001b[34mdials       \u001b[39m 1.4.0     \u001b[32m✔\u001b[39m \u001b[34mrsample     \u001b[39m 1.2.1\n",
      "\u001b[32m✔\u001b[39m \u001b[34mdplyr       \u001b[39m 1.1.4     \u001b[32m✔\u001b[39m \u001b[34mtibble      \u001b[39m 3.2.1\n",
      "\u001b[32m✔\u001b[39m \u001b[34mggplot2     \u001b[39m 3.5.1     \u001b[32m✔\u001b[39m \u001b[34mtidyr       \u001b[39m 1.3.1\n",
      "\u001b[32m✔\u001b[39m \u001b[34minfer       \u001b[39m 1.0.7     \u001b[32m✔\u001b[39m \u001b[34mtune        \u001b[39m 1.3.0\n",
      "\u001b[32m✔\u001b[39m \u001b[34mmodeldata   \u001b[39m 1.4.0     \u001b[32m✔\u001b[39m \u001b[34mworkflows   \u001b[39m 1.2.0\n",
      "\u001b[32m✔\u001b[39m \u001b[34mparsnip     \u001b[39m 1.3.1     \u001b[32m✔\u001b[39m \u001b[34mworkflowsets\u001b[39m 1.1.0\n",
      "\u001b[32m✔\u001b[39m \u001b[34mpurrr       \u001b[39m 1.0.4     \u001b[32m✔\u001b[39m \u001b[34myardstick   \u001b[39m 1.3.2\n",
      "\n",
      "── \u001b[1mConflicts\u001b[22m ───────────────────────────────────────── tidymodels_conflicts() ──\n",
      "\u001b[31m✖\u001b[39m \u001b[34mpurrr\u001b[39m::\u001b[32mdiscard()\u001b[39m masks \u001b[34mscales\u001b[39m::discard()\n",
      "\u001b[31m✖\u001b[39m \u001b[34mdplyr\u001b[39m::\u001b[32mfilter()\u001b[39m  masks \u001b[34mstats\u001b[39m::filter()\n",
      "\u001b[31m✖\u001b[39m \u001b[34mdplyr\u001b[39m::\u001b[32mlag()\u001b[39m     masks \u001b[34mstats\u001b[39m::lag()\n",
      "\u001b[31m✖\u001b[39m \u001b[34mrecipes\u001b[39m::\u001b[32mstep()\u001b[39m  masks \u001b[34mstats\u001b[39m::step()\n",
      "\n",
      "\n",
      "Attaching package: 'MASS'\n",
      "\n",
      "\n",
      "The following object is masked from 'package:dplyr':\n",
      "\n",
      "    select\n",
      "\n",
      "\n"
     ]
    }
   ],
   "source": [
    "# Load\n",
    "library(tidymodels)\n",
    "library(MASS)\n",
    "library(dplyr)"
   ]
  },
  {
   "cell_type": "markdown",
   "metadata": {},
   "source": [
    "### Load the Datasete"
   ]
  },
  {
   "cell_type": "code",
   "execution_count": 2,
   "metadata": {
    "vscode": {
     "languageId": "r"
    }
   },
   "outputs": [
    {
     "data": {
      "text/html": [
       "<table class=\"dataframe\">\n",
       "<caption>A data.frame: 6 × 14</caption>\n",
       "<thead>\n",
       "\t<tr><th></th><th scope=col>crim</th><th scope=col>zn</th><th scope=col>indus</th><th scope=col>chas</th><th scope=col>nox</th><th scope=col>rm</th><th scope=col>age</th><th scope=col>dis</th><th scope=col>rad</th><th scope=col>tax</th><th scope=col>ptratio</th><th scope=col>black</th><th scope=col>lstat</th><th scope=col>medv</th></tr>\n",
       "\t<tr><th></th><th scope=col>&lt;dbl&gt;</th><th scope=col>&lt;dbl&gt;</th><th scope=col>&lt;dbl&gt;</th><th scope=col>&lt;int&gt;</th><th scope=col>&lt;dbl&gt;</th><th scope=col>&lt;dbl&gt;</th><th scope=col>&lt;dbl&gt;</th><th scope=col>&lt;dbl&gt;</th><th scope=col>&lt;int&gt;</th><th scope=col>&lt;dbl&gt;</th><th scope=col>&lt;dbl&gt;</th><th scope=col>&lt;dbl&gt;</th><th scope=col>&lt;dbl&gt;</th><th scope=col>&lt;dbl&gt;</th></tr>\n",
       "</thead>\n",
       "<tbody>\n",
       "\t<tr><th scope=row>1</th><td>0.00632</td><td>18</td><td>2.31</td><td>0</td><td>0.538</td><td>6.575</td><td>65.2</td><td>4.0900</td><td>1</td><td>296</td><td>15.3</td><td>396.90</td><td>4.98</td><td>24.0</td></tr>\n",
       "\t<tr><th scope=row>2</th><td>0.02731</td><td> 0</td><td>7.07</td><td>0</td><td>0.469</td><td>6.421</td><td>78.9</td><td>4.9671</td><td>2</td><td>242</td><td>17.8</td><td>396.90</td><td>9.14</td><td>21.6</td></tr>\n",
       "\t<tr><th scope=row>3</th><td>0.02729</td><td> 0</td><td>7.07</td><td>0</td><td>0.469</td><td>7.185</td><td>61.1</td><td>4.9671</td><td>2</td><td>242</td><td>17.8</td><td>392.83</td><td>4.03</td><td>34.7</td></tr>\n",
       "\t<tr><th scope=row>4</th><td>0.03237</td><td> 0</td><td>2.18</td><td>0</td><td>0.458</td><td>6.998</td><td>45.8</td><td>6.0622</td><td>3</td><td>222</td><td>18.7</td><td>394.63</td><td>2.94</td><td>33.4</td></tr>\n",
       "\t<tr><th scope=row>5</th><td>0.06905</td><td> 0</td><td>2.18</td><td>0</td><td>0.458</td><td>7.147</td><td>54.2</td><td>6.0622</td><td>3</td><td>222</td><td>18.7</td><td>396.90</td><td>5.33</td><td>36.2</td></tr>\n",
       "\t<tr><th scope=row>6</th><td>0.02985</td><td> 0</td><td>2.18</td><td>0</td><td>0.458</td><td>6.430</td><td>58.7</td><td>6.0622</td><td>3</td><td>222</td><td>18.7</td><td>394.12</td><td>5.21</td><td>28.7</td></tr>\n",
       "</tbody>\n",
       "</table>\n"
      ],
      "text/latex": [
       "A data.frame: 6 × 14\n",
       "\\begin{tabular}{r|llllllllllllll}\n",
       "  & crim & zn & indus & chas & nox & rm & age & dis & rad & tax & ptratio & black & lstat & medv\\\\\n",
       "  & <dbl> & <dbl> & <dbl> & <int> & <dbl> & <dbl> & <dbl> & <dbl> & <int> & <dbl> & <dbl> & <dbl> & <dbl> & <dbl>\\\\\n",
       "\\hline\n",
       "\t1 & 0.00632 & 18 & 2.31 & 0 & 0.538 & 6.575 & 65.2 & 4.0900 & 1 & 296 & 15.3 & 396.90 & 4.98 & 24.0\\\\\n",
       "\t2 & 0.02731 &  0 & 7.07 & 0 & 0.469 & 6.421 & 78.9 & 4.9671 & 2 & 242 & 17.8 & 396.90 & 9.14 & 21.6\\\\\n",
       "\t3 & 0.02729 &  0 & 7.07 & 0 & 0.469 & 7.185 & 61.1 & 4.9671 & 2 & 242 & 17.8 & 392.83 & 4.03 & 34.7\\\\\n",
       "\t4 & 0.03237 &  0 & 2.18 & 0 & 0.458 & 6.998 & 45.8 & 6.0622 & 3 & 222 & 18.7 & 394.63 & 2.94 & 33.4\\\\\n",
       "\t5 & 0.06905 &  0 & 2.18 & 0 & 0.458 & 7.147 & 54.2 & 6.0622 & 3 & 222 & 18.7 & 396.90 & 5.33 & 36.2\\\\\n",
       "\t6 & 0.02985 &  0 & 2.18 & 0 & 0.458 & 6.430 & 58.7 & 6.0622 & 3 & 222 & 18.7 & 394.12 & 5.21 & 28.7\\\\\n",
       "\\end{tabular}\n"
      ],
      "text/markdown": [
       "\n",
       "A data.frame: 6 × 14\n",
       "\n",
       "| <!--/--> | crim &lt;dbl&gt; | zn &lt;dbl&gt; | indus &lt;dbl&gt; | chas &lt;int&gt; | nox &lt;dbl&gt; | rm &lt;dbl&gt; | age &lt;dbl&gt; | dis &lt;dbl&gt; | rad &lt;int&gt; | tax &lt;dbl&gt; | ptratio &lt;dbl&gt; | black &lt;dbl&gt; | lstat &lt;dbl&gt; | medv &lt;dbl&gt; |\n",
       "|---|---|---|---|---|---|---|---|---|---|---|---|---|---|---|\n",
       "| 1 | 0.00632 | 18 | 2.31 | 0 | 0.538 | 6.575 | 65.2 | 4.0900 | 1 | 296 | 15.3 | 396.90 | 4.98 | 24.0 |\n",
       "| 2 | 0.02731 |  0 | 7.07 | 0 | 0.469 | 6.421 | 78.9 | 4.9671 | 2 | 242 | 17.8 | 396.90 | 9.14 | 21.6 |\n",
       "| 3 | 0.02729 |  0 | 7.07 | 0 | 0.469 | 7.185 | 61.1 | 4.9671 | 2 | 242 | 17.8 | 392.83 | 4.03 | 34.7 |\n",
       "| 4 | 0.03237 |  0 | 2.18 | 0 | 0.458 | 6.998 | 45.8 | 6.0622 | 3 | 222 | 18.7 | 394.63 | 2.94 | 33.4 |\n",
       "| 5 | 0.06905 |  0 | 2.18 | 0 | 0.458 | 7.147 | 54.2 | 6.0622 | 3 | 222 | 18.7 | 396.90 | 5.33 | 36.2 |\n",
       "| 6 | 0.02985 |  0 | 2.18 | 0 | 0.458 | 6.430 | 58.7 | 6.0622 | 3 | 222 | 18.7 | 394.12 | 5.21 | 28.7 |\n",
       "\n"
      ],
      "text/plain": [
       "  crim    zn indus chas nox   rm    age  dis    rad tax ptratio black  lstat\n",
       "1 0.00632 18 2.31  0    0.538 6.575 65.2 4.0900 1   296 15.3    396.90 4.98 \n",
       "2 0.02731  0 7.07  0    0.469 6.421 78.9 4.9671 2   242 17.8    396.90 9.14 \n",
       "3 0.02729  0 7.07  0    0.469 7.185 61.1 4.9671 2   242 17.8    392.83 4.03 \n",
       "4 0.03237  0 2.18  0    0.458 6.998 45.8 6.0622 3   222 18.7    394.63 2.94 \n",
       "5 0.06905  0 2.18  0    0.458 7.147 54.2 6.0622 3   222 18.7    396.90 5.33 \n",
       "6 0.02985  0 2.18  0    0.458 6.430 58.7 6.0622 3   222 18.7    394.12 5.21 \n",
       "  medv\n",
       "1 24.0\n",
       "2 21.6\n",
       "3 34.7\n",
       "4 33.4\n",
       "5 36.2\n",
       "6 28.7"
      ]
     },
     "metadata": {},
     "output_type": "display_data"
    }
   ],
   "source": [
    "# Load the dataset\n",
    "data(Boston)\n",
    "\n",
    "# Preview\n",
    "head(Boston)"
   ]
  },
  {
   "cell_type": "code",
   "execution_count": 3,
   "metadata": {
    "vscode": {
     "languageId": "r"
    }
   },
   "outputs": [
    {
     "name": "stdout",
     "output_type": "stream",
     "text": [
      "Rows: 506\n",
      "Columns: 14\n",
      "$ crim    \u001b[3m\u001b[90m<dbl>\u001b[39m\u001b[23m 0.00632, 0.02731, 0.02729, 0.03237, 0.06905, 0.02985, 0.08829,…\n",
      "$ zn      \u001b[3m\u001b[90m<dbl>\u001b[39m\u001b[23m 18.0, 0.0, 0.0, 0.0, 0.0, 0.0, 12.5, 12.5, 12.5, 12.5, 12.5, 1…\n",
      "$ indus   \u001b[3m\u001b[90m<dbl>\u001b[39m\u001b[23m 2.31, 7.07, 7.07, 2.18, 2.18, 2.18, 7.87, 7.87, 7.87, 7.87, 7.…\n",
      "$ chas    \u001b[3m\u001b[90m<int>\u001b[39m\u001b[23m 0, 0, 0, 0, 0, 0, 0, 0, 0, 0, 0, 0, 0, 0, 0, 0, 0, 0, 0, 0, 0,…\n",
      "$ nox     \u001b[3m\u001b[90m<dbl>\u001b[39m\u001b[23m 0.538, 0.469, 0.469, 0.458, 0.458, 0.458, 0.524, 0.524, 0.524,…\n",
      "$ rm      \u001b[3m\u001b[90m<dbl>\u001b[39m\u001b[23m 6.575, 6.421, 7.185, 6.998, 7.147, 6.430, 6.012, 6.172, 5.631,…\n",
      "$ age     \u001b[3m\u001b[90m<dbl>\u001b[39m\u001b[23m 65.2, 78.9, 61.1, 45.8, 54.2, 58.7, 66.6, 96.1, 100.0, 85.9, 9…\n",
      "$ dis     \u001b[3m\u001b[90m<dbl>\u001b[39m\u001b[23m 4.0900, 4.9671, 4.9671, 6.0622, 6.0622, 6.0622, 5.5605, 5.9505…\n",
      "$ rad     \u001b[3m\u001b[90m<int>\u001b[39m\u001b[23m 1, 2, 2, 3, 3, 3, 5, 5, 5, 5, 5, 5, 5, 4, 4, 4, 4, 4, 4, 4, 4,…\n",
      "$ tax     \u001b[3m\u001b[90m<dbl>\u001b[39m\u001b[23m 296, 242, 242, 222, 222, 222, 311, 311, 311, 311, 311, 311, 31…\n",
      "$ ptratio \u001b[3m\u001b[90m<dbl>\u001b[39m\u001b[23m 15.3, 17.8, 17.8, 18.7, 18.7, 18.7, 15.2, 15.2, 15.2, 15.2, 15…\n",
      "$ black   \u001b[3m\u001b[90m<dbl>\u001b[39m\u001b[23m 396.90, 396.90, 392.83, 394.63, 396.90, 394.12, 395.60, 396.90…\n",
      "$ lstat   \u001b[3m\u001b[90m<dbl>\u001b[39m\u001b[23m 4.98, 9.14, 4.03, 2.94, 5.33, 5.21, 12.43, 19.15, 29.93, 17.10…\n",
      "$ medv    \u001b[3m\u001b[90m<dbl>\u001b[39m\u001b[23m 24.0, 21.6, 34.7, 33.4, 36.2, 28.7, 22.9, 27.1, 16.5, 18.9, 15…\n"
     ]
    }
   ],
   "source": [
    "# View the structure\n",
    "glimpse(Boston)"
   ]
  },
  {
   "cell_type": "markdown",
   "metadata": {},
   "source": [
    "### Prepare the Data for Classification Task"
   ]
  },
  {
   "cell_type": "code",
   "execution_count": 4,
   "metadata": {
    "vscode": {
     "languageId": "r"
    }
   },
   "outputs": [],
   "source": [
    "# Create a copy of Boston\n",
    "bt <- Boston"
   ]
  },
  {
   "cell_type": "code",
   "execution_count": 5,
   "metadata": {
    "vscode": {
     "languageId": "r"
    }
   },
   "outputs": [],
   "source": [
    "# Convert `chas` to factor\n",
    "bt$chas <- factor(bt$chas,\n",
    "                  levels = c(1, 0),\n",
    "                  labels = c(\"tract bounds river\", \"otherwise\"))"
   ]
  },
  {
   "cell_type": "code",
   "execution_count": 6,
   "metadata": {
    "vscode": {
     "languageId": "r"
    }
   },
   "outputs": [],
   "source": [
    "# Create a new categorical outcome\n",
    "bt <- bt |>\n",
    "        mutate(medv_class = if_else(medv > quantile(medv, 0.5),\n",
    "                                    \"high\",\n",
    "                                    \"low\"))"
   ]
  },
  {
   "cell_type": "code",
   "execution_count": 7,
   "metadata": {
    "vscode": {
     "languageId": "r"
    }
   },
   "outputs": [],
   "source": [
    "# Convert `medv_class` to factor\n",
    "bt$medv_class <- factor(bt$medv_class,\n",
    "                        levels = c(\"high\", \"low\"))"
   ]
  },
  {
   "cell_type": "code",
   "execution_count": 8,
   "metadata": {
    "vscode": {
     "languageId": "r"
    }
   },
   "outputs": [],
   "source": [
    "# Drop `medv`\n",
    "bt$medv <- NULL"
   ]
  },
  {
   "cell_type": "code",
   "execution_count": 9,
   "metadata": {
    "vscode": {
     "languageId": "r"
    }
   },
   "outputs": [
    {
     "name": "stdout",
     "output_type": "stream",
     "text": [
      "Rows: 506\n",
      "Columns: 14\n",
      "$ crim       \u001b[3m\u001b[90m<dbl>\u001b[39m\u001b[23m 0.00632, 0.02731, 0.02729, 0.03237, 0.06905, 0.02985, 0.088…\n",
      "$ zn         \u001b[3m\u001b[90m<dbl>\u001b[39m\u001b[23m 18.0, 0.0, 0.0, 0.0, 0.0, 0.0, 12.5, 12.5, 12.5, 12.5, 12.5…\n",
      "$ indus      \u001b[3m\u001b[90m<dbl>\u001b[39m\u001b[23m 2.31, 7.07, 7.07, 2.18, 2.18, 2.18, 7.87, 7.87, 7.87, 7.87,…\n",
      "$ chas       \u001b[3m\u001b[90m<fct>\u001b[39m\u001b[23m otherwise, otherwise, otherwise, otherwise, otherwise, othe…\n",
      "$ nox        \u001b[3m\u001b[90m<dbl>\u001b[39m\u001b[23m 0.538, 0.469, 0.469, 0.458, 0.458, 0.458, 0.524, 0.524, 0.5…\n",
      "$ rm         \u001b[3m\u001b[90m<dbl>\u001b[39m\u001b[23m 6.575, 6.421, 7.185, 6.998, 7.147, 6.430, 6.012, 6.172, 5.6…\n",
      "$ age        \u001b[3m\u001b[90m<dbl>\u001b[39m\u001b[23m 65.2, 78.9, 61.1, 45.8, 54.2, 58.7, 66.6, 96.1, 100.0, 85.9…\n",
      "$ dis        \u001b[3m\u001b[90m<dbl>\u001b[39m\u001b[23m 4.0900, 4.9671, 4.9671, 6.0622, 6.0622, 6.0622, 5.5605, 5.9…\n",
      "$ rad        \u001b[3m\u001b[90m<int>\u001b[39m\u001b[23m 1, 2, 2, 3, 3, 3, 5, 5, 5, 5, 5, 5, 5, 4, 4, 4, 4, 4, 4, 4,…\n",
      "$ tax        \u001b[3m\u001b[90m<dbl>\u001b[39m\u001b[23m 296, 242, 242, 222, 222, 222, 311, 311, 311, 311, 311, 311,…\n",
      "$ ptratio    \u001b[3m\u001b[90m<dbl>\u001b[39m\u001b[23m 15.3, 17.8, 17.8, 18.7, 18.7, 18.7, 15.2, 15.2, 15.2, 15.2,…\n",
      "$ black      \u001b[3m\u001b[90m<dbl>\u001b[39m\u001b[23m 396.90, 396.90, 392.83, 394.63, 396.90, 394.12, 395.60, 396…\n",
      "$ lstat      \u001b[3m\u001b[90m<dbl>\u001b[39m\u001b[23m 4.98, 9.14, 4.03, 2.94, 5.33, 5.21, 12.43, 19.15, 29.93, 17…\n",
      "$ medv_class \u001b[3m\u001b[90m<fct>\u001b[39m\u001b[23m high, high, high, high, high, high, high, high, low, low, l…\n"
     ]
    }
   ],
   "source": [
    "# Check the results\n",
    "glimpse(bt)"
   ]
  },
  {
   "cell_type": "markdown",
   "metadata": {},
   "source": [
    "## Step 1. Split the Data"
   ]
  },
  {
   "cell_type": "code",
   "execution_count": 10,
   "metadata": {
    "vscode": {
     "languageId": "r"
    }
   },
   "outputs": [],
   "source": [
    "# Create training index\n",
    "\n",
    "## Set seed for reproducibility\n",
    "set.seed(300)\n",
    "\n",
    "## Create index\n",
    "bt_split <- initial_split(bt,\n",
    "                          prop = 0.8,\n",
    "                          strata = medv_class)"
   ]
  },
  {
   "cell_type": "code",
   "execution_count": 11,
   "metadata": {
    "vscode": {
     "languageId": "r"
    }
   },
   "outputs": [],
   "source": [
    "# Create training and test sets\n",
    "\n",
    "## Training set\n",
    "bt_train <- training(bt_split)\n",
    "\n",
    "## Test set\n",
    "bt_test <- testing(bt_split)"
   ]
  },
  {
   "cell_type": "markdown",
   "metadata": {},
   "source": [
    "## Step 2. Prepare the Recipe"
   ]
  },
  {
   "cell_type": "code",
   "execution_count": 12,
   "metadata": {
    "vscode": {
     "languageId": "r"
    }
   },
   "outputs": [],
   "source": [
    "# Create a recipe\n",
    "bt_recipe <- recipe(medv_class ~ .,\n",
    "                    bt_train) |>\n",
    "                \n",
    "                ## Remove near-zero variance predictors\n",
    "                step_nzv(all_numeric_predictors()) |>\n",
    "\n",
    "                ## Handle multicollinearity\n",
    "                step_corr(all_numeric_predictors(),\n",
    "                          threshold = 0.8) |>\n",
    "\n",
    "                ## Dummy-code nominal predictors\n",
    "                step_dummy(all_nominal_predictors()) |>\n",
    "\n",
    "                ## Normalsie the data\n",
    "                step_normalize(all_numeric_predictors())"
   ]
  },
  {
   "cell_type": "markdown",
   "metadata": {},
   "source": [
    "## Step 3. Prepare & Bake"
   ]
  },
  {
   "cell_type": "code",
   "execution_count": 13,
   "metadata": {
    "vscode": {
     "languageId": "r"
    }
   },
   "outputs": [],
   "source": [
    "# Prepare the recipe\n",
    "bt_recipe_prep <- prep(bt_recipe,\n",
    "                       data = bt_train)"
   ]
  },
  {
   "cell_type": "code",
   "execution_count": 14,
   "metadata": {
    "vscode": {
     "languageId": "r"
    }
   },
   "outputs": [],
   "source": [
    "# Bake the training and test sets\n",
    "\n",
    "## Training set\n",
    "bt_train_prep <- bake(bt_recipe_prep,\n",
    "                      new_data = NULL)\n",
    "\n",
    "## Test set\n",
    "bt_test_prep <- bake(bt_recipe_prep,\n",
    "                     new_data = bt_test)"
   ]
  },
  {
   "cell_type": "markdown",
   "metadata": {},
   "source": [
    "## Step 4. Instantiate the Model"
   ]
  },
  {
   "cell_type": "code",
   "execution_count": 15,
   "metadata": {
    "vscode": {
     "languageId": "r"
    }
   },
   "outputs": [],
   "source": [
    "# Instantiate decision tree\n",
    "dt_model <- decision_tree() |>\n",
    "\n",
    "    ## Set engine\n",
    "    set_engine(\"rpart\") |>\n",
    "\n",
    "    ## Set mode\n",
    "    set_mode(\"classification\")"
   ]
  },
  {
   "cell_type": "markdown",
   "metadata": {},
   "source": [
    "## Step 5. Train the Model"
   ]
  },
  {
   "cell_type": "code",
   "execution_count": 16,
   "metadata": {
    "vscode": {
     "languageId": "r"
    }
   },
   "outputs": [],
   "source": [
    "# Train the model\n",
    "dt_model_fit <- fit(dt_model,\n",
    "                    medv_class ~ .,\n",
    "                    data = bt_train_prep)"
   ]
  },
  {
   "cell_type": "markdown",
   "metadata": {},
   "source": [
    "## Step 6. Make Predictions"
   ]
  },
  {
   "cell_type": "code",
   "execution_count": 17,
   "metadata": {
    "vscode": {
     "languageId": "r"
    }
   },
   "outputs": [
    {
     "data": {
      "text/html": [
       "<table class=\"dataframe\">\n",
       "<caption>A tibble: 6 × 1</caption>\n",
       "<thead>\n",
       "\t<tr><th scope=col>.pred_class</th></tr>\n",
       "\t<tr><th scope=col>&lt;fct&gt;</th></tr>\n",
       "</thead>\n",
       "<tbody>\n",
       "\t<tr><td>high</td></tr>\n",
       "\t<tr><td>high</td></tr>\n",
       "\t<tr><td>low </td></tr>\n",
       "\t<tr><td>low </td></tr>\n",
       "\t<tr><td>low </td></tr>\n",
       "\t<tr><td>low </td></tr>\n",
       "</tbody>\n",
       "</table>\n"
      ],
      "text/latex": [
       "A tibble: 6 × 1\n",
       "\\begin{tabular}{l}\n",
       " .pred\\_class\\\\\n",
       " <fct>\\\\\n",
       "\\hline\n",
       "\t high\\\\\n",
       "\t high\\\\\n",
       "\t low \\\\\n",
       "\t low \\\\\n",
       "\t low \\\\\n",
       "\t low \\\\\n",
       "\\end{tabular}\n"
      ],
      "text/markdown": [
       "\n",
       "A tibble: 6 × 1\n",
       "\n",
       "| .pred_class &lt;fct&gt; |\n",
       "|---|\n",
       "| high |\n",
       "| high |\n",
       "| low  |\n",
       "| low  |\n",
       "| low  |\n",
       "| low  |\n",
       "\n"
      ],
      "text/plain": [
       "  .pred_class\n",
       "1 high       \n",
       "2 high       \n",
       "3 low        \n",
       "4 low        \n",
       "5 low        \n",
       "6 low        "
      ]
     },
     "metadata": {},
     "output_type": "display_data"
    }
   ],
   "source": [
    "# Predict the outcome\n",
    "y_pred <- predict(dt_model_fit,\n",
    "                  new_data = bt_test_prep,\n",
    "                  type = \"class\")\n",
    "\n",
    "# View the result\n",
    "head(y_pred)"
   ]
  },
  {
   "cell_type": "code",
   "execution_count": 18,
   "metadata": {
    "vscode": {
     "languageId": "r"
    }
   },
   "outputs": [
    {
     "data": {
      "text/html": [
       "<table class=\"dataframe\">\n",
       "<caption>A tibble: 6 × 2</caption>\n",
       "<thead>\n",
       "\t<tr><th scope=col>.pred_high</th><th scope=col>.pred_low</th></tr>\n",
       "\t<tr><th scope=col>&lt;dbl&gt;</th><th scope=col>&lt;dbl&gt;</th></tr>\n",
       "</thead>\n",
       "<tbody>\n",
       "\t<tr><td>0.98591549</td><td>0.01408451</td></tr>\n",
       "\t<tr><td>0.98591549</td><td>0.01408451</td></tr>\n",
       "\t<tr><td>0.07462687</td><td>0.92537313</td></tr>\n",
       "\t<tr><td>0.27536232</td><td>0.72463768</td></tr>\n",
       "\t<tr><td>0.27536232</td><td>0.72463768</td></tr>\n",
       "\t<tr><td>0.12500000</td><td>0.87500000</td></tr>\n",
       "</tbody>\n",
       "</table>\n"
      ],
      "text/latex": [
       "A tibble: 6 × 2\n",
       "\\begin{tabular}{ll}\n",
       " .pred\\_high & .pred\\_low\\\\\n",
       " <dbl> & <dbl>\\\\\n",
       "\\hline\n",
       "\t 0.98591549 & 0.01408451\\\\\n",
       "\t 0.98591549 & 0.01408451\\\\\n",
       "\t 0.07462687 & 0.92537313\\\\\n",
       "\t 0.27536232 & 0.72463768\\\\\n",
       "\t 0.27536232 & 0.72463768\\\\\n",
       "\t 0.12500000 & 0.87500000\\\\\n",
       "\\end{tabular}\n"
      ],
      "text/markdown": [
       "\n",
       "A tibble: 6 × 2\n",
       "\n",
       "| .pred_high &lt;dbl&gt; | .pred_low &lt;dbl&gt; |\n",
       "|---|---|\n",
       "| 0.98591549 | 0.01408451 |\n",
       "| 0.98591549 | 0.01408451 |\n",
       "| 0.07462687 | 0.92537313 |\n",
       "| 0.27536232 | 0.72463768 |\n",
       "| 0.27536232 | 0.72463768 |\n",
       "| 0.12500000 | 0.87500000 |\n",
       "\n"
      ],
      "text/plain": [
       "  .pred_high .pred_low \n",
       "1 0.98591549 0.01408451\n",
       "2 0.98591549 0.01408451\n",
       "3 0.07462687 0.92537313\n",
       "4 0.27536232 0.72463768\n",
       "5 0.27536232 0.72463768\n",
       "6 0.12500000 0.87500000"
      ]
     },
     "metadata": {},
     "output_type": "display_data"
    }
   ],
   "source": [
    "# Get predicted probabilities\n",
    "y_prob <- predict(dt_model_fit,\n",
    "                  new_data = bt_test_prep,\n",
    "                  type = \"prob\")\n",
    "\n",
    "# View the results\n",
    "head(y_prob)"
   ]
  },
  {
   "cell_type": "code",
   "execution_count": 19,
   "metadata": {
    "vscode": {
     "languageId": "r"
    }
   },
   "outputs": [
    {
     "data": {
      "text/html": [
       "<table class=\"dataframe\">\n",
       "<caption>A tibble: 6 × 4</caption>\n",
       "<thead>\n",
       "\t<tr><th scope=col>actual</th><th scope=col>predicted</th><th scope=col>prob_high</th><th scope=col>prob_low</th></tr>\n",
       "\t<tr><th scope=col>&lt;fct&gt;</th><th scope=col>&lt;fct&gt;</th><th scope=col>&lt;dbl&gt;</th><th scope=col>&lt;dbl&gt;</th></tr>\n",
       "</thead>\n",
       "<tbody>\n",
       "\t<tr><td>high</td><td>high</td><td>0.98591549</td><td>0.01408451</td></tr>\n",
       "\t<tr><td>high</td><td>high</td><td>0.98591549</td><td>0.01408451</td></tr>\n",
       "\t<tr><td>low </td><td>low </td><td>0.07462687</td><td>0.92537313</td></tr>\n",
       "\t<tr><td>low </td><td>low </td><td>0.27536232</td><td>0.72463768</td></tr>\n",
       "\t<tr><td>low </td><td>low </td><td>0.27536232</td><td>0.72463768</td></tr>\n",
       "\t<tr><td>low </td><td>low </td><td>0.12500000</td><td>0.87500000</td></tr>\n",
       "</tbody>\n",
       "</table>\n"
      ],
      "text/latex": [
       "A tibble: 6 × 4\n",
       "\\begin{tabular}{llll}\n",
       " actual & predicted & prob\\_high & prob\\_low\\\\\n",
       " <fct> & <fct> & <dbl> & <dbl>\\\\\n",
       "\\hline\n",
       "\t high & high & 0.98591549 & 0.01408451\\\\\n",
       "\t high & high & 0.98591549 & 0.01408451\\\\\n",
       "\t low  & low  & 0.07462687 & 0.92537313\\\\\n",
       "\t low  & low  & 0.27536232 & 0.72463768\\\\\n",
       "\t low  & low  & 0.27536232 & 0.72463768\\\\\n",
       "\t low  & low  & 0.12500000 & 0.87500000\\\\\n",
       "\\end{tabular}\n"
      ],
      "text/markdown": [
       "\n",
       "A tibble: 6 × 4\n",
       "\n",
       "| actual &lt;fct&gt; | predicted &lt;fct&gt; | prob_high &lt;dbl&gt; | prob_low &lt;dbl&gt; |\n",
       "|---|---|---|---|\n",
       "| high | high | 0.98591549 | 0.01408451 |\n",
       "| high | high | 0.98591549 | 0.01408451 |\n",
       "| low  | low  | 0.07462687 | 0.92537313 |\n",
       "| low  | low  | 0.27536232 | 0.72463768 |\n",
       "| low  | low  | 0.27536232 | 0.72463768 |\n",
       "| low  | low  | 0.12500000 | 0.87500000 |\n",
       "\n"
      ],
      "text/plain": [
       "  actual predicted prob_high  prob_low  \n",
       "1 high   high      0.98591549 0.01408451\n",
       "2 high   high      0.98591549 0.01408451\n",
       "3 low    low       0.07462687 0.92537313\n",
       "4 low    low       0.27536232 0.72463768\n",
       "5 low    low       0.27536232 0.72463768\n",
       "6 low    low       0.12500000 0.87500000"
      ]
     },
     "metadata": {},
     "output_type": "display_data"
    }
   ],
   "source": [
    "# Store the results in a tibble\n",
    "dt_results <- tibble(actual = bt_test_prep$medv_class,\n",
    "                     predicted = y_pred$.pred_class,\n",
    "                     prob_high = y_prob$.pred_high,\n",
    "                     prob_low = y_prob$.pred_low)\n",
    "\n",
    "# View the tibble\n",
    "head(dt_results)"
   ]
  },
  {
   "cell_type": "markdown",
   "metadata": {},
   "source": [
    "## Step 7. Evaluate the Model"
   ]
  },
  {
   "cell_type": "code",
   "execution_count": 20,
   "metadata": {
    "vscode": {
     "languageId": "r"
    }
   },
   "outputs": [
    {
     "name": "stdout",
     "output_type": "stream",
     "text": [
      "          Truth\n",
      "Prediction high low\n",
      "      high   44  10\n",
      "      low     6  42\n"
     ]
    }
   ],
   "source": [
    "# Create a confusion matrix\n",
    "dt_cm <- conf_mat(dt_results,\n",
    "                  truth = actual,\n",
    "                  estimate = predicted)\n",
    "\n",
    "# View the matrix\n",
    "print(dt_cm)"
   ]
  },
  {
   "cell_type": "code",
   "execution_count": 21,
   "metadata": {
    "vscode": {
     "languageId": "r"
    }
   },
   "outputs": [
    {
     "data": {
      "text/html": [
       "<table class=\"dataframe\">\n",
       "<caption>A tibble: 13 × 3</caption>\n",
       "<thead>\n",
       "\t<tr><th scope=col>.metric</th><th scope=col>.estimator</th><th scope=col>.estimate</th></tr>\n",
       "\t<tr><th scope=col>&lt;chr&gt;</th><th scope=col>&lt;chr&gt;</th><th scope=col>&lt;dbl&gt;</th></tr>\n",
       "</thead>\n",
       "<tbody>\n",
       "\t<tr><td>accuracy            </td><td>binary</td><td>0.8431373</td></tr>\n",
       "\t<tr><td>kap                 </td><td>binary</td><td>0.6866359</td></tr>\n",
       "\t<tr><td>sens                </td><td>binary</td><td>0.8800000</td></tr>\n",
       "\t<tr><td>spec                </td><td>binary</td><td>0.8076923</td></tr>\n",
       "\t<tr><td>ppv                 </td><td>binary</td><td>0.8148148</td></tr>\n",
       "\t<tr><td>npv                 </td><td>binary</td><td>0.8750000</td></tr>\n",
       "\t<tr><td>mcc                 </td><td>binary</td><td>0.6887527</td></tr>\n",
       "\t<tr><td>j_index             </td><td>binary</td><td>0.6876923</td></tr>\n",
       "\t<tr><td>bal_accuracy        </td><td>binary</td><td>0.8438462</td></tr>\n",
       "\t<tr><td>detection_prevalence</td><td>binary</td><td>0.5294118</td></tr>\n",
       "\t<tr><td>precision           </td><td>binary</td><td>0.8148148</td></tr>\n",
       "\t<tr><td>recall              </td><td>binary</td><td>0.8800000</td></tr>\n",
       "\t<tr><td>f_meas              </td><td>binary</td><td>0.8461538</td></tr>\n",
       "</tbody>\n",
       "</table>\n"
      ],
      "text/latex": [
       "A tibble: 13 × 3\n",
       "\\begin{tabular}{lll}\n",
       " .metric & .estimator & .estimate\\\\\n",
       " <chr> & <chr> & <dbl>\\\\\n",
       "\\hline\n",
       "\t accuracy             & binary & 0.8431373\\\\\n",
       "\t kap                  & binary & 0.6866359\\\\\n",
       "\t sens                 & binary & 0.8800000\\\\\n",
       "\t spec                 & binary & 0.8076923\\\\\n",
       "\t ppv                  & binary & 0.8148148\\\\\n",
       "\t npv                  & binary & 0.8750000\\\\\n",
       "\t mcc                  & binary & 0.6887527\\\\\n",
       "\t j\\_index              & binary & 0.6876923\\\\\n",
       "\t bal\\_accuracy         & binary & 0.8438462\\\\\n",
       "\t detection\\_prevalence & binary & 0.5294118\\\\\n",
       "\t precision            & binary & 0.8148148\\\\\n",
       "\t recall               & binary & 0.8800000\\\\\n",
       "\t f\\_meas               & binary & 0.8461538\\\\\n",
       "\\end{tabular}\n"
      ],
      "text/markdown": [
       "\n",
       "A tibble: 13 × 3\n",
       "\n",
       "| .metric &lt;chr&gt; | .estimator &lt;chr&gt; | .estimate &lt;dbl&gt; |\n",
       "|---|---|---|\n",
       "| accuracy             | binary | 0.8431373 |\n",
       "| kap                  | binary | 0.6866359 |\n",
       "| sens                 | binary | 0.8800000 |\n",
       "| spec                 | binary | 0.8076923 |\n",
       "| ppv                  | binary | 0.8148148 |\n",
       "| npv                  | binary | 0.8750000 |\n",
       "| mcc                  | binary | 0.6887527 |\n",
       "| j_index              | binary | 0.6876923 |\n",
       "| bal_accuracy         | binary | 0.8438462 |\n",
       "| detection_prevalence | binary | 0.5294118 |\n",
       "| precision            | binary | 0.8148148 |\n",
       "| recall               | binary | 0.8800000 |\n",
       "| f_meas               | binary | 0.8461538 |\n",
       "\n"
      ],
      "text/plain": [
       "   .metric              .estimator .estimate\n",
       "1  accuracy             binary     0.8431373\n",
       "2  kap                  binary     0.6866359\n",
       "3  sens                 binary     0.8800000\n",
       "4  spec                 binary     0.8076923\n",
       "5  ppv                  binary     0.8148148\n",
       "6  npv                  binary     0.8750000\n",
       "7  mcc                  binary     0.6887527\n",
       "8  j_index              binary     0.6876923\n",
       "9  bal_accuracy         binary     0.8438462\n",
       "10 detection_prevalence binary     0.5294118\n",
       "11 precision            binary     0.8148148\n",
       "12 recall               binary     0.8800000\n",
       "13 f_meas               binary     0.8461538"
      ]
     },
     "metadata": {},
     "output_type": "display_data"
    }
   ],
   "source": [
    "# Get all evaluation metrics\n",
    "summary(dt_cm)"
   ]
  },
  {
   "cell_type": "code",
   "execution_count": 22,
   "metadata": {
    "vscode": {
     "languageId": "r"
    }
   },
   "outputs": [],
   "source": [
    "# Create a set of custom metrics\n",
    "dt_metrics <- metric_set(accuracy,\n",
    "                         sens,\n",
    "                         yardstick::spec)"
   ]
  },
  {
   "cell_type": "code",
   "execution_count": 23,
   "metadata": {
    "vscode": {
     "languageId": "r"
    }
   },
   "outputs": [
    {
     "data": {
      "text/html": [
       "<table class=\"dataframe\">\n",
       "<caption>A tibble: 3 × 3</caption>\n",
       "<thead>\n",
       "\t<tr><th scope=col>.metric</th><th scope=col>.estimator</th><th scope=col>.estimate</th></tr>\n",
       "\t<tr><th scope=col>&lt;chr&gt;</th><th scope=col>&lt;chr&gt;</th><th scope=col>&lt;dbl&gt;</th></tr>\n",
       "</thead>\n",
       "<tbody>\n",
       "\t<tr><td>accuracy</td><td>binary</td><td>0.8431373</td></tr>\n",
       "\t<tr><td>sens    </td><td>binary</td><td>0.8800000</td></tr>\n",
       "\t<tr><td>spec    </td><td>binary</td><td>0.8076923</td></tr>\n",
       "</tbody>\n",
       "</table>\n"
      ],
      "text/latex": [
       "A tibble: 3 × 3\n",
       "\\begin{tabular}{lll}\n",
       " .metric & .estimator & .estimate\\\\\n",
       " <chr> & <chr> & <dbl>\\\\\n",
       "\\hline\n",
       "\t accuracy & binary & 0.8431373\\\\\n",
       "\t sens     & binary & 0.8800000\\\\\n",
       "\t spec     & binary & 0.8076923\\\\\n",
       "\\end{tabular}\n"
      ],
      "text/markdown": [
       "\n",
       "A tibble: 3 × 3\n",
       "\n",
       "| .metric &lt;chr&gt; | .estimator &lt;chr&gt; | .estimate &lt;dbl&gt; |\n",
       "|---|---|---|\n",
       "| accuracy | binary | 0.8431373 |\n",
       "| sens     | binary | 0.8800000 |\n",
       "| spec     | binary | 0.8076923 |\n",
       "\n"
      ],
      "text/plain": [
       "  .metric  .estimator .estimate\n",
       "1 accuracy binary     0.8431373\n",
       "2 sens     binary     0.8800000\n",
       "3 spec     binary     0.8076923"
      ]
     },
     "metadata": {},
     "output_type": "display_data"
    }
   ],
   "source": [
    "# Apply the custom metric set\n",
    "dt_metrics(dt_results,\n",
    "           truth = actual,\n",
    "           estimate = predicted)"
   ]
  },
  {
   "cell_type": "code",
   "execution_count": 24,
   "metadata": {
    "vscode": {
     "languageId": "r"
    }
   },
   "outputs": [
    {
     "data": {
      "image/png": "[encoded data removed]",
      "text/plain": [
       "plot without title"
      ]
     },
     "metadata": {
      "image/png": {
       "height": 420,
       "width": 420
      }
     },
     "output_type": "display_data"
    }
   ],
   "source": [
    "# Plot ROC curve\n",
    "roc_curve(dt_results,\n",
    "          actual,\n",
    "          prob_high) |>\n",
    "          autoplot()"
   ]
  },
  {
   "cell_type": "code",
   "execution_count": 25,
   "metadata": {
    "vscode": {
     "languageId": "r"
    }
   },
   "outputs": [
    {
     "data": {
      "text/html": [
       "<table class=\"dataframe\">\n",
       "<caption>A tibble: 1 × 3</caption>\n",
       "<thead>\n",
       "\t<tr><th scope=col>.metric</th><th scope=col>.estimator</th><th scope=col>.estimate</th></tr>\n",
       "\t<tr><th scope=col>&lt;chr&gt;</th><th scope=col>&lt;chr&gt;</th><th scope=col>&lt;dbl&gt;</th></tr>\n",
       "</thead>\n",
       "<tbody>\n",
       "\t<tr><td>roc_auc</td><td>binary</td><td>0.9282692</td></tr>\n",
       "</tbody>\n",
       "</table>\n"
      ],
      "text/latex": [
       "A tibble: 1 × 3\n",
       "\\begin{tabular}{lll}\n",
       " .metric & .estimator & .estimate\\\\\n",
       " <chr> & <chr> & <dbl>\\\\\n",
       "\\hline\n",
       "\t roc\\_auc & binary & 0.9282692\\\\\n",
       "\\end{tabular}\n"
      ],
      "text/markdown": [
       "\n",
       "A tibble: 1 × 3\n",
       "\n",
       "| .metric &lt;chr&gt; | .estimator &lt;chr&gt; | .estimate &lt;dbl&gt; |\n",
       "|---|---|---|\n",
       "| roc_auc | binary | 0.9282692 |\n",
       "\n"
      ],
      "text/plain": [
       "  .metric .estimator .estimate\n",
       "1 roc_auc binary     0.9282692"
      ]
     },
     "metadata": {},
     "output_type": "display_data"
    }
   ],
   "source": [
    "# Compute ROC AUC\n",
    "roc_auc(dt_results,\n",
    "        actual,\n",
    "        prob_high)"
   ]
  },
  {
   "cell_type": "markdown",
   "metadata": {},
   "source": [
    "## Shortcut: Steps 3-6"
   ]
  },
  {
   "cell_type": "code",
   "execution_count": null,
   "metadata": {
    "vscode": {
     "languageId": "r"
    }
   },
   "outputs": [],
   "source": [
    "# Use workflow() and last_fit() to shorten the process\n",
    "\n",
    "## Define training set index\n",
    "\n",
    "### Set seed for reproducibility\n",
    "set.seed(300)\n",
    "\n",
    "### Create index\n",
    "bt_split <- initial_split(bt,\n",
    "                          prop = 0.8,\n",
    "                          strata = medv_class)"
   ]
  },
  {
   "cell_type": "code",
   "execution_count": 29,
   "metadata": {
    "vscode": {
     "languageId": "r"
    }
   },
   "outputs": [],
   "source": [
    "## Create a recipe\n",
    "bt_recipe <- recipe(medv_class ~ .,\n",
    "                    bt_train) |>\n",
    "                \n",
    "                ### Remove near-zero variance predictors\n",
    "                step_nzv(all_numeric_predictors()) |>\n",
    "\n",
    "                ### Handle multicollinearity\n",
    "                step_corr(all_numeric_predictors(),\n",
    "                          threshold = 0.8) |>\n",
    "\n",
    "                ### Dummy-code nominal predictors\n",
    "                step_dummy(all_nominal_predictors()) |>\n",
    "\n",
    "                ### Normalsie the data\n",
    "                step_normalize(all_numeric_predictors())"
   ]
  },
  {
   "cell_type": "code",
   "execution_count": 30,
   "metadata": {
    "vscode": {
     "languageId": "r"
    }
   },
   "outputs": [],
   "source": [
    "## Instantiate decision tree\n",
    "dt_model <- decision_tree() |>\n",
    "\n",
    "    ### Set engine\n",
    "    set_engine(\"rpart\") |>\n",
    "\n",
    "    ### Set mode\n",
    "    set_mode(\"classification\")"
   ]
  },
  {
   "cell_type": "code",
   "execution_count": 31,
   "metadata": {
    "vscode": {
     "languageId": "r"
    }
   },
   "outputs": [],
   "source": [
    "## Use workflow() to bundle recipe and model\n",
    "bt_wfl <- workflow() |>\n",
    "    \n",
    "    ### Add recipe\n",
    "    add_recipe(bt_recipe) |>\n",
    "\n",
    "    ### Add model\n",
    "    add_model(dt_model)"
   ]
  },
  {
   "cell_type": "code",
   "execution_count": 36,
   "metadata": {
    "vscode": {
     "languageId": "r"
    }
   },
   "outputs": [],
   "source": [
    "# Create a set of custom metrics\n",
    "dt_metrics <- metric_set(accuracy,\n",
    "                         sens,\n",
    "                         yardstick::spec,\n",
    "                         roc_auc)"
   ]
  },
  {
   "cell_type": "code",
   "execution_count": 37,
   "metadata": {
    "vscode": {
     "languageId": "r"
    }
   },
   "outputs": [],
   "source": [
    "## Use last_fit() to train the model\n",
    "dt_last_fit <- last_fit(bt_wfl,\n",
    "                        split = bt_split,\n",
    "                        metrics = dt_metrics)"
   ]
  },
  {
   "cell_type": "code",
   "execution_count": 42,
   "metadata": {
    "vscode": {
     "languageId": "r"
    }
   },
   "outputs": [
    {
     "data": {
      "text/html": [
       "<table class=\"dataframe\">\n",
       "<caption>A tibble: 6 × 7</caption>\n",
       "<thead>\n",
       "\t<tr><th scope=col>.pred_class</th><th scope=col>.pred_high</th><th scope=col>.pred_low</th><th scope=col>id</th><th scope=col>.row</th><th scope=col>medv_class</th><th scope=col>.config</th></tr>\n",
       "\t<tr><th scope=col>&lt;fct&gt;</th><th scope=col>&lt;dbl&gt;</th><th scope=col>&lt;dbl&gt;</th><th scope=col>&lt;chr&gt;</th><th scope=col>&lt;int&gt;</th><th scope=col>&lt;fct&gt;</th><th scope=col>&lt;chr&gt;</th></tr>\n",
       "</thead>\n",
       "<tbody>\n",
       "\t<tr><td>high</td><td>0.98591549</td><td>0.01408451</td><td>train/test split</td><td> 3</td><td>high</td><td>Preprocessor1_Model1</td></tr>\n",
       "\t<tr><td>high</td><td>0.98591549</td><td>0.01408451</td><td>train/test split</td><td> 6</td><td>high</td><td>Preprocessor1_Model1</td></tr>\n",
       "\t<tr><td>low </td><td>0.07462687</td><td>0.92537313</td><td>train/test split</td><td> 9</td><td>low </td><td>Preprocessor1_Model1</td></tr>\n",
       "\t<tr><td>low </td><td>0.27536232</td><td>0.72463768</td><td>train/test split</td><td>27</td><td>low </td><td>Preprocessor1_Model1</td></tr>\n",
       "\t<tr><td>low </td><td>0.27536232</td><td>0.72463768</td><td>train/test split</td><td>32</td><td>low </td><td>Preprocessor1_Model1</td></tr>\n",
       "\t<tr><td>low </td><td>0.12500000</td><td>0.87500000</td><td>train/test split</td><td>36</td><td>low </td><td>Preprocessor1_Model1</td></tr>\n",
       "</tbody>\n",
       "</table>\n"
      ],
      "text/latex": [
       "A tibble: 6 × 7\n",
       "\\begin{tabular}{lllllll}\n",
       " .pred\\_class & .pred\\_high & .pred\\_low & id & .row & medv\\_class & .config\\\\\n",
       " <fct> & <dbl> & <dbl> & <chr> & <int> & <fct> & <chr>\\\\\n",
       "\\hline\n",
       "\t high & 0.98591549 & 0.01408451 & train/test split &  3 & high & Preprocessor1\\_Model1\\\\\n",
       "\t high & 0.98591549 & 0.01408451 & train/test split &  6 & high & Preprocessor1\\_Model1\\\\\n",
       "\t low  & 0.07462687 & 0.92537313 & train/test split &  9 & low  & Preprocessor1\\_Model1\\\\\n",
       "\t low  & 0.27536232 & 0.72463768 & train/test split & 27 & low  & Preprocessor1\\_Model1\\\\\n",
       "\t low  & 0.27536232 & 0.72463768 & train/test split & 32 & low  & Preprocessor1\\_Model1\\\\\n",
       "\t low  & 0.12500000 & 0.87500000 & train/test split & 36 & low  & Preprocessor1\\_Model1\\\\\n",
       "\\end{tabular}\n"
      ],
      "text/markdown": [
       "\n",
       "A tibble: 6 × 7\n",
       "\n",
       "| .pred_class &lt;fct&gt; | .pred_high &lt;dbl&gt; | .pred_low &lt;dbl&gt; | id &lt;chr&gt; | .row &lt;int&gt; | medv_class &lt;fct&gt; | .config &lt;chr&gt; |\n",
       "|---|---|---|---|---|---|---|\n",
       "| high | 0.98591549 | 0.01408451 | train/test split |  3 | high | Preprocessor1_Model1 |\n",
       "| high | 0.98591549 | 0.01408451 | train/test split |  6 | high | Preprocessor1_Model1 |\n",
       "| low  | 0.07462687 | 0.92537313 | train/test split |  9 | low  | Preprocessor1_Model1 |\n",
       "| low  | 0.27536232 | 0.72463768 | train/test split | 27 | low  | Preprocessor1_Model1 |\n",
       "| low  | 0.27536232 | 0.72463768 | train/test split | 32 | low  | Preprocessor1_Model1 |\n",
       "| low  | 0.12500000 | 0.87500000 | train/test split | 36 | low  | Preprocessor1_Model1 |\n",
       "\n"
      ],
      "text/plain": [
       "  .pred_class .pred_high .pred_low  id               .row medv_class\n",
       "1 high        0.98591549 0.01408451 train/test split  3   high      \n",
       "2 high        0.98591549 0.01408451 train/test split  6   high      \n",
       "3 low         0.07462687 0.92537313 train/test split  9   low       \n",
       "4 low         0.27536232 0.72463768 train/test split 27   low       \n",
       "5 low         0.27536232 0.72463768 train/test split 32   low       \n",
       "6 low         0.12500000 0.87500000 train/test split 36   low       \n",
       "  .config             \n",
       "1 Preprocessor1_Model1\n",
       "2 Preprocessor1_Model1\n",
       "3 Preprocessor1_Model1\n",
       "4 Preprocessor1_Model1\n",
       "5 Preprocessor1_Model1\n",
       "6 Preprocessor1_Model1"
      ]
     },
     "metadata": {},
     "output_type": "display_data"
    }
   ],
   "source": [
    "# Predict the outcome with collect_predictions()\n",
    "dt_predictions <- collect_predictions(dt_last_fit)\n",
    "\n",
    "# Preview the predictions\n",
    "head(dt_predictions)"
   ]
  },
  {
   "cell_type": "code",
   "execution_count": 40,
   "metadata": {
    "vscode": {
     "languageId": "r"
    }
   },
   "outputs": [
    {
     "name": "stdout",
     "output_type": "stream",
     "text": [
      "\u001b[90m# A tibble: 4 × 4\u001b[39m\n",
      "  .metric  .estimator .estimate .config             \n",
      "  \u001b[3m\u001b[90m<chr>\u001b[39m\u001b[23m    \u001b[3m\u001b[90m<chr>\u001b[39m\u001b[23m          \u001b[3m\u001b[90m<dbl>\u001b[39m\u001b[23m \u001b[3m\u001b[90m<chr>\u001b[39m\u001b[23m               \n",
      "\u001b[90m1\u001b[39m accuracy binary         0.843 Preprocessor1_Model1\n",
      "\u001b[90m2\u001b[39m sens     binary         0.88  Preprocessor1_Model1\n",
      "\u001b[90m3\u001b[39m spec     binary         0.808 Preprocessor1_Model1\n",
      "\u001b[90m4\u001b[39m roc_auc  binary         0.928 Preprocessor1_Model1\n"
     ]
    }
   ],
   "source": [
    "## Evaluate the model\n",
    "dt_last_fit_metrics <- collect_metrics(dt_last_fit)\n",
    "\n",
    "## Print\n",
    "print(dt_last_fit_metrics)"
   ]
  },
  {
   "cell_type": "code",
   "execution_count": 43,
   "metadata": {
    "vscode": {
     "languageId": "r"
    }
   },
   "outputs": [
    {
     "data": {
      "text/plain": [
       "          Truth\n",
       "Prediction high low\n",
       "      high   44  10\n",
       "      low     6  42"
      ]
     },
     "metadata": {},
     "output_type": "display_data"
    }
   ],
   "source": [
    "## Create confusion matrix\n",
    "conf_mat(dt_predictions,\n",
    "         truth = medv_class,\n",
    "         estimate = .pred_class)"
   ]
  },
  {
   "cell_type": "code",
   "execution_count": 45,
   "metadata": {
    "vscode": {
     "languageId": "r"
    }
   },
   "outputs": [
    {
     "ename": "ERROR",
     "evalue": "\u001b[1m\u001b[33mError\u001b[39m in `autoplot()`:\u001b[22m\n\u001b[33m!\u001b[39m There is no `autoplot()` implementation for `resample_results`.\n",
     "output_type": "error",
     "traceback": [
      "\u001b[1m\u001b[33mError\u001b[39m in `autoplot()`:\u001b[22m\n\u001b[33m!\u001b[39m There is no `autoplot()` implementation for `resample_results`.\nTraceback:\n",
      "1. autoplot(dt_last_fit, type = \"roc_curve\")",
      "2. autoplot.resample_results(dt_last_fit, type = \"roc_curve\")",
      "3. rlang::abort(\"There is no `autoplot()` implementation for `resample_results`.\")",
      "4. signal_abort(cnd, .file)"
     ]
    }
   ],
   "source": [
    "## Plot ROC curve\n",
    "autoplot(dt_last_fit, type = \"roc_curve\")"
   ]
  },
  {
   "cell_type": "markdown",
   "metadata": {},
   "source": [
    "## Step 8. Hyperparametre Tuning"
   ]
  },
  {
   "cell_type": "code",
   "execution_count": 67,
   "metadata": {
    "vscode": {
     "languageId": "r"
    }
   },
   "outputs": [],
   "source": [
    "# Create a tune model\n",
    "dt_tune <- decision_tree(cost_complexity = tune(),\n",
    "                         tree_depth = tune(),\n",
    "                         min_n = tune()) |>\n",
    "            \n",
    "            ## Set engine\n",
    "            set_engine(\"rpart\") |>\n",
    "\n",
    "            ## Set mode\n",
    "            set_mode(\"classification\")"
   ]
  },
  {
   "cell_type": "code",
   "execution_count": null,
   "metadata": {
    "vscode": {
     "languageId": "r"
    }
   },
   "outputs": [],
   "source": [
    "# Create grid random\n",
    "dt_grid <- grid_random(cost_complexity(range = c(-5, 0), trans = log10_trans()),\n",
    "                       tree_depth(range = c(1, 20)),\n",
    "                       min_n(range = c(2, 50)),\n",
    "                       size = 20)"
   ]
  },
  {
   "cell_type": "code",
   "execution_count": 90,
   "metadata": {
    "vscode": {
     "languageId": "r"
    }
   },
   "outputs": [],
   "source": [
    "# Create v-fold cross validation\n",
    "\n",
    "## Set seed for reproducibility\n",
    "set.seed(100)\n",
    "\n",
    "# Create folds\n",
    "dt_cv <- vfold_cv(bt_train,\n",
    "                  v = 5,\n",
    "                  strata = medv_class)"
   ]
  },
  {
   "cell_type": "code",
   "execution_count": 91,
   "metadata": {
    "vscode": {
     "languageId": "r"
    }
   },
   "outputs": [],
   "source": [
    "# Create a workflow\n",
    "dt_wf <- workflow() |>\n",
    "\n",
    "            ## Add recipe\n",
    "            add_recipe(bt_recipe) |>\n",
    "\n",
    "            ## Add model\n",
    "            add_model(dt_tune)"
   ]
  },
  {
   "cell_type": "code",
   "execution_count": 95,
   "metadata": {
    "vscode": {
     "languageId": "r"
    }
   },
   "outputs": [],
   "source": [
    "# Tune the model\n",
    "dt_tune_results <- tune_grid(dt_wf,\n",
    "                             resamples = dt_cv,\n",
    "                             grid = dt_grid,\n",
    "                             metrics = metric_set(accuracy, roc_auc))"
   ]
  },
  {
   "cell_type": "markdown",
   "metadata": {},
   "source": [
    "## Step 9. Select the Best Parametre Combination"
   ]
  },
  {
   "cell_type": "code",
   "execution_count": 97,
   "metadata": {
    "vscode": {
     "languageId": "r"
    }
   },
   "outputs": [
    {
     "data": {
      "text/html": [
       "<table class=\"dataframe\">\n",
       "<caption>A tibble: 5 × 9</caption>\n",
       "<thead>\n",
       "\t<tr><th scope=col>cost_complexity</th><th scope=col>tree_depth</th><th scope=col>min_n</th><th scope=col>.metric</th><th scope=col>.estimator</th><th scope=col>mean</th><th scope=col>n</th><th scope=col>std_err</th><th scope=col>.config</th></tr>\n",
       "\t<tr><th scope=col>&lt;dbl&gt;</th><th scope=col>&lt;int&gt;</th><th scope=col>&lt;int&gt;</th><th scope=col>&lt;chr&gt;</th><th scope=col>&lt;chr&gt;</th><th scope=col>&lt;dbl&gt;</th><th scope=col>&lt;int&gt;</th><th scope=col>&lt;dbl&gt;</th><th scope=col>&lt;chr&gt;</th></tr>\n",
       "</thead>\n",
       "<tbody>\n",
       "\t<tr><td>6.271560e-04</td><td> 6</td><td>39</td><td>roc_auc</td><td>binary</td><td>0.8812271</td><td>5</td><td>0.01989456</td><td>Preprocessor1_Model19</td></tr>\n",
       "\t<tr><td>1.913885e-05</td><td> 3</td><td>24</td><td>roc_auc</td><td>binary</td><td>0.8771707</td><td>5</td><td>0.02043237</td><td>Preprocessor1_Model04</td></tr>\n",
       "\t<tr><td>5.775800e-03</td><td>12</td><td>30</td><td>roc_auc</td><td>binary</td><td>0.8769268</td><td>5</td><td>0.02047074</td><td>Preprocessor1_Model03</td></tr>\n",
       "\t<tr><td>5.404966e-03</td><td>19</td><td>29</td><td>roc_auc</td><td>binary</td><td>0.8769268</td><td>5</td><td>0.02047074</td><td>Preprocessor1_Model09</td></tr>\n",
       "\t<tr><td>2.201641e-03</td><td>19</td><td>32</td><td>roc_auc</td><td>binary</td><td>0.8738537</td><td>5</td><td>0.02324114</td><td>Preprocessor1_Model05</td></tr>\n",
       "</tbody>\n",
       "</table>\n"
      ],
      "text/latex": [
       "A tibble: 5 × 9\n",
       "\\begin{tabular}{lllllllll}\n",
       " cost\\_complexity & tree\\_depth & min\\_n & .metric & .estimator & mean & n & std\\_err & .config\\\\\n",
       " <dbl> & <int> & <int> & <chr> & <chr> & <dbl> & <int> & <dbl> & <chr>\\\\\n",
       "\\hline\n",
       "\t 6.271560e-04 &  6 & 39 & roc\\_auc & binary & 0.8812271 & 5 & 0.01989456 & Preprocessor1\\_Model19\\\\\n",
       "\t 1.913885e-05 &  3 & 24 & roc\\_auc & binary & 0.8771707 & 5 & 0.02043237 & Preprocessor1\\_Model04\\\\\n",
       "\t 5.775800e-03 & 12 & 30 & roc\\_auc & binary & 0.8769268 & 5 & 0.02047074 & Preprocessor1\\_Model03\\\\\n",
       "\t 5.404966e-03 & 19 & 29 & roc\\_auc & binary & 0.8769268 & 5 & 0.02047074 & Preprocessor1\\_Model09\\\\\n",
       "\t 2.201641e-03 & 19 & 32 & roc\\_auc & binary & 0.8738537 & 5 & 0.02324114 & Preprocessor1\\_Model05\\\\\n",
       "\\end{tabular}\n"
      ],
      "text/markdown": [
       "\n",
       "A tibble: 5 × 9\n",
       "\n",
       "| cost_complexity &lt;dbl&gt; | tree_depth &lt;int&gt; | min_n &lt;int&gt; | .metric &lt;chr&gt; | .estimator &lt;chr&gt; | mean &lt;dbl&gt; | n &lt;int&gt; | std_err &lt;dbl&gt; | .config &lt;chr&gt; |\n",
       "|---|---|---|---|---|---|---|---|---|\n",
       "| 6.271560e-04 |  6 | 39 | roc_auc | binary | 0.8812271 | 5 | 0.01989456 | Preprocessor1_Model19 |\n",
       "| 1.913885e-05 |  3 | 24 | roc_auc | binary | 0.8771707 | 5 | 0.02043237 | Preprocessor1_Model04 |\n",
       "| 5.775800e-03 | 12 | 30 | roc_auc | binary | 0.8769268 | 5 | 0.02047074 | Preprocessor1_Model03 |\n",
       "| 5.404966e-03 | 19 | 29 | roc_auc | binary | 0.8769268 | 5 | 0.02047074 | Preprocessor1_Model09 |\n",
       "| 2.201641e-03 | 19 | 32 | roc_auc | binary | 0.8738537 | 5 | 0.02324114 | Preprocessor1_Model05 |\n",
       "\n"
      ],
      "text/plain": [
       "  cost_complexity tree_depth min_n .metric .estimator mean      n std_err   \n",
       "1 6.271560e-04     6         39    roc_auc binary     0.8812271 5 0.01989456\n",
       "2 1.913885e-05     3         24    roc_auc binary     0.8771707 5 0.02043237\n",
       "3 5.775800e-03    12         30    roc_auc binary     0.8769268 5 0.02047074\n",
       "4 5.404966e-03    19         29    roc_auc binary     0.8769268 5 0.02047074\n",
       "5 2.201641e-03    19         32    roc_auc binary     0.8738537 5 0.02324114\n",
       "  .config              \n",
       "1 Preprocessor1_Model19\n",
       "2 Preprocessor1_Model04\n",
       "3 Preprocessor1_Model03\n",
       "4 Preprocessor1_Model09\n",
       "5 Preprocessor1_Model05"
      ]
     },
     "metadata": {},
     "output_type": "display_data"
    }
   ],
   "source": [
    "# View the best parametre combination\n",
    "dt_tune_results |> show_best(metric = \"roc_auc\",\n",
    "                             n = 5)"
   ]
  },
  {
   "cell_type": "code",
   "execution_count": 108,
   "metadata": {
    "vscode": {
     "languageId": "r"
    }
   },
   "outputs": [],
   "source": [
    "# Select the best combination\n",
    "best_params <- select_best(dt_tune_results,\n",
    "                           metric = \"roc_auc\")"
   ]
  },
  {
   "cell_type": "code",
   "execution_count": 112,
   "metadata": {
    "vscode": {
     "languageId": "r"
    }
   },
   "outputs": [],
   "source": [
    "# Add the combination to the model\n",
    "dt_best_wf <- finalize_workflow(dt_wf, best_params)"
   ]
  },
  {
   "cell_type": "markdown",
   "metadata": {},
   "source": [
    "## Step 10. Fit the Best Model"
   ]
  },
  {
   "cell_type": "code",
   "execution_count": 143,
   "metadata": {
    "vscode": {
     "languageId": "r"
    }
   },
   "outputs": [],
   "source": [
    "# Fit the model\n",
    "dt_best_fit <- last_fit(dt_best_wf,\n",
    "                        split = bt_split,\n",
    "                        metrics = metric_set(accuracy, sens, yardstick::spec, roc_auc))"
   ]
  },
  {
   "cell_type": "markdown",
   "metadata": {},
   "source": [
    "## Step 11. Make Predictions With the Best Model"
   ]
  },
  {
   "cell_type": "code",
   "execution_count": 144,
   "metadata": {
    "vscode": {
     "languageId": "r"
    }
   },
   "outputs": [
    {
     "data": {
      "text/html": [
       "<table class=\"dataframe\">\n",
       "<caption>A tibble: 6 × 7</caption>\n",
       "<thead>\n",
       "\t<tr><th scope=col>.pred_class</th><th scope=col>.pred_high</th><th scope=col>.pred_low</th><th scope=col>id</th><th scope=col>.row</th><th scope=col>medv_class</th><th scope=col>.config</th></tr>\n",
       "\t<tr><th scope=col>&lt;fct&gt;</th><th scope=col>&lt;dbl&gt;</th><th scope=col>&lt;dbl&gt;</th><th scope=col>&lt;chr&gt;</th><th scope=col>&lt;int&gt;</th><th scope=col>&lt;fct&gt;</th><th scope=col>&lt;chr&gt;</th></tr>\n",
       "</thead>\n",
       "<tbody>\n",
       "\t<tr><td>high</td><td>0.97959184</td><td>0.02040816</td><td>train/test split</td><td> 3</td><td>high</td><td>Preprocessor1_Model1</td></tr>\n",
       "\t<tr><td>high</td><td>0.97959184</td><td>0.02040816</td><td>train/test split</td><td> 6</td><td>high</td><td>Preprocessor1_Model1</td></tr>\n",
       "\t<tr><td>low </td><td>0.07633588</td><td>0.92366412</td><td>train/test split</td><td>13</td><td>high</td><td>Preprocessor1_Model1</td></tr>\n",
       "\t<tr><td>high</td><td>0.54838710</td><td>0.45161290</td><td>train/test split</td><td>18</td><td>low </td><td>Preprocessor1_Model1</td></tr>\n",
       "\t<tr><td>low </td><td>0.13333333</td><td>0.86666667</td><td>train/test split</td><td>19</td><td>low </td><td>Preprocessor1_Model1</td></tr>\n",
       "\t<tr><td>low </td><td>0.07633588</td><td>0.92366412</td><td>train/test split</td><td>28</td><td>low </td><td>Preprocessor1_Model1</td></tr>\n",
       "</tbody>\n",
       "</table>\n"
      ],
      "text/latex": [
       "A tibble: 6 × 7\n",
       "\\begin{tabular}{lllllll}\n",
       " .pred\\_class & .pred\\_high & .pred\\_low & id & .row & medv\\_class & .config\\\\\n",
       " <fct> & <dbl> & <dbl> & <chr> & <int> & <fct> & <chr>\\\\\n",
       "\\hline\n",
       "\t high & 0.97959184 & 0.02040816 & train/test split &  3 & high & Preprocessor1\\_Model1\\\\\n",
       "\t high & 0.97959184 & 0.02040816 & train/test split &  6 & high & Preprocessor1\\_Model1\\\\\n",
       "\t low  & 0.07633588 & 0.92366412 & train/test split & 13 & high & Preprocessor1\\_Model1\\\\\n",
       "\t high & 0.54838710 & 0.45161290 & train/test split & 18 & low  & Preprocessor1\\_Model1\\\\\n",
       "\t low  & 0.13333333 & 0.86666667 & train/test split & 19 & low  & Preprocessor1\\_Model1\\\\\n",
       "\t low  & 0.07633588 & 0.92366412 & train/test split & 28 & low  & Preprocessor1\\_Model1\\\\\n",
       "\\end{tabular}\n"
      ],
      "text/markdown": [
       "\n",
       "A tibble: 6 × 7\n",
       "\n",
       "| .pred_class &lt;fct&gt; | .pred_high &lt;dbl&gt; | .pred_low &lt;dbl&gt; | id &lt;chr&gt; | .row &lt;int&gt; | medv_class &lt;fct&gt; | .config &lt;chr&gt; |\n",
       "|---|---|---|---|---|---|---|\n",
       "| high | 0.97959184 | 0.02040816 | train/test split |  3 | high | Preprocessor1_Model1 |\n",
       "| high | 0.97959184 | 0.02040816 | train/test split |  6 | high | Preprocessor1_Model1 |\n",
       "| low  | 0.07633588 | 0.92366412 | train/test split | 13 | high | Preprocessor1_Model1 |\n",
       "| high | 0.54838710 | 0.45161290 | train/test split | 18 | low  | Preprocessor1_Model1 |\n",
       "| low  | 0.13333333 | 0.86666667 | train/test split | 19 | low  | Preprocessor1_Model1 |\n",
       "| low  | 0.07633588 | 0.92366412 | train/test split | 28 | low  | Preprocessor1_Model1 |\n",
       "\n"
      ],
      "text/plain": [
       "  .pred_class .pred_high .pred_low  id               .row medv_class\n",
       "1 high        0.97959184 0.02040816 train/test split  3   high      \n",
       "2 high        0.97959184 0.02040816 train/test split  6   high      \n",
       "3 low         0.07633588 0.92366412 train/test split 13   high      \n",
       "4 high        0.54838710 0.45161290 train/test split 18   low       \n",
       "5 low         0.13333333 0.86666667 train/test split 19   low       \n",
       "6 low         0.07633588 0.92366412 train/test split 28   low       \n",
       "  .config             \n",
       "1 Preprocessor1_Model1\n",
       "2 Preprocessor1_Model1\n",
       "3 Preprocessor1_Model1\n",
       "4 Preprocessor1_Model1\n",
       "5 Preprocessor1_Model1\n",
       "6 Preprocessor1_Model1"
      ]
     },
     "metadata": {},
     "output_type": "display_data"
    }
   ],
   "source": [
    "# Make predictions\n",
    "dt_best_predictions <- collect_predictions(dt_best_fit)\n",
    "\n",
    "# Preview the results\n",
    "head(dt_best_predictions)"
   ]
  },
  {
   "cell_type": "markdown",
   "metadata": {},
   "source": [
    "## Step 12. Evaluate the Best Model"
   ]
  },
  {
   "cell_type": "code",
   "execution_count": 145,
   "metadata": {
    "vscode": {
     "languageId": "r"
    }
   },
   "outputs": [
    {
     "data": {
      "text/html": [
       "<table class=\"dataframe\">\n",
       "<caption>A tibble: 4 × 4</caption>\n",
       "<thead>\n",
       "\t<tr><th scope=col>.metric</th><th scope=col>.estimator</th><th scope=col>.estimate</th><th scope=col>.config</th></tr>\n",
       "\t<tr><th scope=col>&lt;chr&gt;</th><th scope=col>&lt;chr&gt;</th><th scope=col>&lt;dbl&gt;</th><th scope=col>&lt;chr&gt;</th></tr>\n",
       "</thead>\n",
       "<tbody>\n",
       "\t<tr><td>accuracy</td><td>binary</td><td>0.8235294</td><td>Preprocessor1_Model1</td></tr>\n",
       "\t<tr><td>sens    </td><td>binary</td><td>0.8600000</td><td>Preprocessor1_Model1</td></tr>\n",
       "\t<tr><td>spec    </td><td>binary</td><td>0.7884615</td><td>Preprocessor1_Model1</td></tr>\n",
       "\t<tr><td>roc_auc </td><td>binary</td><td>0.9028846</td><td>Preprocessor1_Model1</td></tr>\n",
       "</tbody>\n",
       "</table>\n"
      ],
      "text/latex": [
       "A tibble: 4 × 4\n",
       "\\begin{tabular}{llll}\n",
       " .metric & .estimator & .estimate & .config\\\\\n",
       " <chr> & <chr> & <dbl> & <chr>\\\\\n",
       "\\hline\n",
       "\t accuracy & binary & 0.8235294 & Preprocessor1\\_Model1\\\\\n",
       "\t sens     & binary & 0.8600000 & Preprocessor1\\_Model1\\\\\n",
       "\t spec     & binary & 0.7884615 & Preprocessor1\\_Model1\\\\\n",
       "\t roc\\_auc  & binary & 0.9028846 & Preprocessor1\\_Model1\\\\\n",
       "\\end{tabular}\n"
      ],
      "text/markdown": [
       "\n",
       "A tibble: 4 × 4\n",
       "\n",
       "| .metric &lt;chr&gt; | .estimator &lt;chr&gt; | .estimate &lt;dbl&gt; | .config &lt;chr&gt; |\n",
       "|---|---|---|---|\n",
       "| accuracy | binary | 0.8235294 | Preprocessor1_Model1 |\n",
       "| sens     | binary | 0.8600000 | Preprocessor1_Model1 |\n",
       "| spec     | binary | 0.7884615 | Preprocessor1_Model1 |\n",
       "| roc_auc  | binary | 0.9028846 | Preprocessor1_Model1 |\n",
       "\n"
      ],
      "text/plain": [
       "  .metric  .estimator .estimate .config             \n",
       "1 accuracy binary     0.8235294 Preprocessor1_Model1\n",
       "2 sens     binary     0.8600000 Preprocessor1_Model1\n",
       "3 spec     binary     0.7884615 Preprocessor1_Model1\n",
       "4 roc_auc  binary     0.9028846 Preprocessor1_Model1"
      ]
     },
     "metadata": {},
     "output_type": "display_data"
    }
   ],
   "source": [
    "# Collect metrics\n",
    "collect_metrics(dt_best_fit)"
   ]
  },
  {
   "cell_type": "code",
   "execution_count": 147,
   "metadata": {
    "vscode": {
     "languageId": "r"
    }
   },
   "outputs": [
    {
     "data": {
      "image/png": "[encoded data removed]",
      "text/plain": [
       "plot without title"
      ]
     },
     "metadata": {
      "image/png": {
       "height": 420,
       "width": 420
      }
     },
     "output_type": "display_data"
    }
   ],
   "source": [
    "# Plot the ROC curve\n",
    "roc_curve(dt_best_predictions,\n",
    "          truth = medv_class,\n",
    "          .pred_high) |>\n",
    "    autoplot()"
   ]
  }
 ],
 "metadata": {
  "kernelspec": {
   "display_name": "R",
   "language": "R",
   "name": "ir"
  },
  "language_info": {
   "codemirror_mode": "r",
   "file_extension": ".r",
   "mimetype": "text/x-r-source",
   "name": "R",
   "pygments_lexer": "r",
   "version": "4.4.3"
  }
 },
 "nbformat": 4,
 "nbformat_minor": 2
}
