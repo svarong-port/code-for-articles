{
 "cells": [
  {
   "cell_type": "markdown",
   "metadata": {
    "id": "MYAohPBvuYHx"
   },
   "source": [
    "# Code for Intro to Python\n",
    "\n",
    "Language: Python"
   ]
  },
  {
   "cell_type": "markdown",
   "metadata": {
    "id": "NTFAPIQ0yFFq"
   },
   "source": [
    "## Basic Steps"
   ]
  },
  {
   "cell_type": "markdown",
   "metadata": {
    "id": "02PqwsBf0MYI"
   },
   "source": [
    "### Basic Arithmetic"
   ]
  },
  {
   "cell_type": "code",
   "execution_count": 16,
   "metadata": {
    "colab": {
     "base_uri": "https://localhost:8080/"
    },
    "executionInfo": {
     "elapsed": 12,
     "status": "ok",
     "timestamp": 1742223149338,
     "user": {
      "displayName": "Shinin Varongchayakul",
      "userId": "15136349580737597979"
     },
     "user_tz": -420
    },
    "id": "ss-s5_Aat3OC",
    "outputId": "9ea2a52e-45f5-4a1a-b80c-7804b1e8d223"
   },
   "outputs": [
    {
     "data": {
      "text/plain": [
       "7"
      ]
     },
     "execution_count": 16,
     "metadata": {},
     "output_type": "execute_result"
    }
   ],
   "source": [
    "# Addition\n",
    "3 + 4"
   ]
  },
  {
   "cell_type": "code",
   "execution_count": 17,
   "metadata": {
    "colab": {
     "base_uri": "https://localhost:8080/"
    },
    "executionInfo": {
     "elapsed": 38,
     "status": "ok",
     "timestamp": 1742223149378,
     "user": {
      "displayName": "Shinin Varongchayakul",
      "userId": "15136349580737597979"
     },
     "user_tz": -420
    },
    "id": "AaN-ZK13yIzM",
    "outputId": "66280165-38b9-46cb-ea28-caba851a4002"
   },
   "outputs": [
    {
     "data": {
      "text/plain": [
       "3"
      ]
     },
     "execution_count": 17,
     "metadata": {},
     "output_type": "execute_result"
    }
   ],
   "source": [
    "# Subtraction\n",
    "10 - 7"
   ]
  },
  {
   "cell_type": "code",
   "execution_count": 18,
   "metadata": {
    "colab": {
     "base_uri": "https://localhost:8080/"
    },
    "executionInfo": {
     "elapsed": 12,
     "status": "ok",
     "timestamp": 1742223149389,
     "user": {
      "displayName": "Shinin Varongchayakul",
      "userId": "15136349580737597979"
     },
     "user_tz": -420
    },
    "id": "Qoi7gkcMyyJl",
    "outputId": "9ce4faf5-98a0-44e6-fc91-75ae29f6295e"
   },
   "outputs": [
    {
     "data": {
      "text/plain": [
       "4"
      ]
     },
     "execution_count": 18,
     "metadata": {},
     "output_type": "execute_result"
    }
   ],
   "source": [
    "# Multiplication\n",
    "2 * 2"
   ]
  },
  {
   "cell_type": "code",
   "execution_count": 19,
   "metadata": {
    "colab": {
     "base_uri": "https://localhost:8080/"
    },
    "executionInfo": {
     "elapsed": 13,
     "status": "ok",
     "timestamp": 1742223149405,
     "user": {
      "displayName": "Shinin Varongchayakul",
      "userId": "15136349580737597979"
     },
     "user_tz": -420
    },
    "id": "8xRQ3bX5y0W9",
    "outputId": "cd76189f-9c51-4abe-a1d5-27c3a5b7656b"
   },
   "outputs": [
    {
     "data": {
      "text/plain": [
       "3.0"
      ]
     },
     "execution_count": 19,
     "metadata": {},
     "output_type": "execute_result"
    }
   ],
   "source": [
    "# Division\n",
    "9 / 3"
   ]
  },
  {
   "cell_type": "markdown",
   "metadata": {
    "id": "dVhSpI-k0JWX"
   },
   "source": [
    "### Variables"
   ]
  },
  {
   "cell_type": "code",
   "execution_count": 20,
   "metadata": {
    "colab": {
     "base_uri": "https://localhost:8080/"
    },
    "executionInfo": {
     "elapsed": 40,
     "status": "ok",
     "timestamp": 1742223149444,
     "user": {
      "displayName": "Shinin Varongchayakul",
      "userId": "15136349580737597979"
     },
     "user_tz": -420
    },
    "id": "tGnk1aUK0LV9",
    "outputId": "c76f7ba5-5e78-4bdc-93ee-89f4a5831475"
   },
   "outputs": [
    {
     "data": {
      "text/plain": [
       "60"
      ]
     },
     "execution_count": 20,
     "metadata": {},
     "output_type": "execute_result"
    }
   ],
   "source": [
    "# Create allowance variable\n",
    "allowance = 100\n",
    "\n",
    "# Create expense variable\n",
    "expense = 40\n",
    "\n",
    "# Calculate remaining balance\n",
    "allowance - expense"
   ]
  },
  {
   "cell_type": "code",
   "execution_count": 21,
   "metadata": {
    "colab": {
     "base_uri": "https://localhost:8080/"
    },
    "executionInfo": {
     "elapsed": 7,
     "status": "ok",
     "timestamp": 1742223149452,
     "user": {
      "displayName": "Shinin Varongchayakul",
      "userId": "15136349580737597979"
     },
     "user_tz": -420
    },
    "id": "H5JT-gqt2JhY",
    "outputId": "851d8244-3c56-4493-deca-e007b55c1b85"
   },
   "outputs": [
    {
     "data": {
      "text/plain": [
       "30"
      ]
     },
     "execution_count": 21,
     "metadata": {},
     "output_type": "execute_result"
    }
   ],
   "source": [
    "# Update expense\n",
    "expense = 70\n",
    "\n",
    "# Calculate remaining balance\n",
    "allowance - expense"
   ]
  },
  {
   "cell_type": "code",
   "execution_count": 22,
   "metadata": {
    "colab": {
     "base_uri": "https://localhost:8080/"
    },
    "executionInfo": {
     "elapsed": 12,
     "status": "ok",
     "timestamp": 1742223149463,
     "user": {
      "displayName": "Shinin Varongchayakul",
      "userId": "15136349580737597979"
     },
     "user_tz": -420
    },
    "id": "KwLLBy2J2295",
    "outputId": "62c2822b-f3a9-44ef-a590-ef34a599a855"
   },
   "outputs": [
    {
     "data": {
      "text/plain": [
       "30"
      ]
     },
     "execution_count": 22,
     "metadata": {},
     "output_type": "execute_result"
    }
   ],
   "source": [
    "# Store remaining balance in a variable\n",
    "remain = allowance - expense\n",
    "\n",
    "# Check remaining balance\n",
    "remain"
   ]
  },
  {
   "cell_type": "markdown",
   "metadata": {
    "id": "iYoFQ6-L8jFC"
   },
   "source": [
    "## Data Types"
   ]
  },
  {
   "cell_type": "markdown",
   "metadata": {
    "id": "fRvXRMaO8oGu"
   },
   "source": [
    "### Integre & Float"
   ]
  },
  {
   "cell_type": "code",
   "execution_count": 23,
   "metadata": {
    "colab": {
     "base_uri": "https://localhost:8080/"
    },
    "executionInfo": {
     "elapsed": 12,
     "status": "ok",
     "timestamp": 1742223149477,
     "user": {
      "displayName": "Shinin Varongchayakul",
      "userId": "15136349580737597979"
     },
     "user_tz": -420
    },
    "id": "L3Ymo0LI8n3i",
    "outputId": "f4c08172-daf3-4ec7-fa43-dafc70fdaf92"
   },
   "outputs": [
    {
     "data": {
      "text/plain": [
       "100"
      ]
     },
     "execution_count": 23,
     "metadata": {},
     "output_type": "execute_result"
    }
   ],
   "source": [
    "# Convert to integre\n",
    "int(100.50)"
   ]
  },
  {
   "cell_type": "code",
   "execution_count": 24,
   "metadata": {
    "colab": {
     "base_uri": "https://localhost:8080/"
    },
    "executionInfo": {
     "elapsed": 12,
     "status": "ok",
     "timestamp": 1742223149487,
     "user": {
      "displayName": "Shinin Varongchayakul",
      "userId": "15136349580737597979"
     },
     "user_tz": -420
    },
    "id": "g1-gn5WM8mOc",
    "outputId": "e06f578d-6a9d-4503-a4c7-ffa977796d5f"
   },
   "outputs": [
    {
     "data": {
      "text/plain": [
       "100.0"
      ]
     },
     "execution_count": 24,
     "metadata": {},
     "output_type": "execute_result"
    }
   ],
   "source": [
    "# Convert to float\n",
    "float(\"100\")"
   ]
  },
  {
   "cell_type": "markdown",
   "metadata": {
    "id": "i3Xvw49N-eyr"
   },
   "source": [
    "### String"
   ]
  },
  {
   "cell_type": "code",
   "execution_count": 25,
   "metadata": {
    "colab": {
     "base_uri": "https://localhost:8080/",
     "height": 35
    },
    "executionInfo": {
     "elapsed": 9,
     "status": "ok",
     "timestamp": 1742223149494,
     "user": {
      "displayName": "Shinin Varongchayakul",
      "userId": "15136349580737597979"
     },
     "user_tz": -420
    },
    "id": "IV8RcZ_9-egd",
    "outputId": "cb5e3ecf-e259-4081-9283-09e86225f2a8"
   },
   "outputs": [
    {
     "data": {
      "application/vnd.google.colaboratory.intrinsic+json": {
       "type": "string"
      },
      "text/plain": [
       "'John'"
      ]
     },
     "execution_count": 25,
     "metadata": {},
     "output_type": "execute_result"
    }
   ],
   "source": [
    "# Single-line string\n",
    "\"John\"\n",
    "'John'"
   ]
  },
  {
   "cell_type": "code",
   "execution_count": 26,
   "metadata": {
    "colab": {
     "base_uri": "https://localhost:8080/",
     "height": 35
    },
    "executionInfo": {
     "elapsed": 9,
     "status": "ok",
     "timestamp": 1742223149504,
     "user": {
      "displayName": "Shinin Varongchayakul",
      "userId": "15136349580737597979"
     },
     "user_tz": -420
    },
    "id": "JRgZOR__-iXZ",
    "outputId": "2a46c3da-2a40-42ba-d35f-c2d7927e6ca2"
   },
   "outputs": [
    {
     "data": {
      "application/vnd.google.colaboratory.intrinsic+json": {
       "type": "string"
      },
      "text/plain": [
       "\"\\nMy name is Wick.\\nJohn Wick.\\nI'm looking for my dog.\\n\""
      ]
     },
     "execution_count": 26,
     "metadata": {},
     "output_type": "execute_result"
    }
   ],
   "source": [
    "# Multiple-line string\n",
    "\"\"\"\n",
    "My name is Wick.\n",
    "John Wick.\n",
    "I'm looking for my dog.\n",
    "\"\"\"\n",
    "\n",
    "'''\n",
    "My name is Wick.\n",
    "John Wick.\n",
    "I'm looking for my dog.\n",
    "'''"
   ]
  },
  {
   "cell_type": "code",
   "execution_count": 27,
   "metadata": {
    "colab": {
     "base_uri": "https://localhost:8080/",
     "height": 35
    },
    "executionInfo": {
     "elapsed": 15,
     "status": "ok",
     "timestamp": 1742223149568,
     "user": {
      "displayName": "Shinin Varongchayakul",
      "userId": "15136349580737597979"
     },
     "user_tz": -420
    },
    "id": "i4vp_oz6-rjH",
    "outputId": "1b047da1-ee5b-4e6c-e114-4a3ae1fdaaf1"
   },
   "outputs": [
    {
     "data": {
      "application/vnd.google.colaboratory.intrinsic+json": {
       "type": "string"
      },
      "text/plain": [
       "'100'"
      ]
     },
     "execution_count": 27,
     "metadata": {},
     "output_type": "execute_result"
    }
   ],
   "source": [
    "# Convert to string\n",
    "str(100)"
   ]
  },
  {
   "cell_type": "code",
   "execution_count": 49,
   "metadata": {
    "colab": {
     "base_uri": "https://localhost:8080/",
     "height": 159
    },
    "executionInfo": {
     "elapsed": 44,
     "status": "error",
     "timestamp": 1742223159430,
     "user": {
      "displayName": "Shinin Varongchayakul",
      "userId": "15136349580737597979"
     },
     "user_tz": -420
    },
    "id": "nBdCHjWBE2da",
    "outputId": "067ffdbc-9f4e-42a9-a63f-bfbf64b25324"
   },
   "outputs": [
    {
     "ename": "TypeError",
     "evalue": "can only concatenate str (not \"int\") to str",
     "output_type": "error",
     "traceback": [
      "\u001b[0;31m---------------------------------------------------------------------------\u001b[0m",
      "\u001b[0;31mTypeError\u001b[0m                                 Traceback (most recent call last)",
      "\u001b[0;32m<ipython-input-49-efc4e6e83db0>\u001b[0m in \u001b[0;36m<cell line: 0>\u001b[0;34m()\u001b[0m\n\u001b[1;32m      1\u001b[0m \u001b[0;31m# String cannot be used in arithmetic operation\u001b[0m\u001b[0;34m\u001b[0m\u001b[0;34m\u001b[0m\u001b[0m\n\u001b[0;32m----> 2\u001b[0;31m \u001b[0mstr\u001b[0m\u001b[0;34m(\u001b[0m\u001b[0;36m100\u001b[0m\u001b[0;34m)\u001b[0m \u001b[0;34m+\u001b[0m \u001b[0;36m100\u001b[0m\u001b[0;34m\u001b[0m\u001b[0;34m\u001b[0m\u001b[0m\n\u001b[0m",
      "\u001b[0;31mTypeError\u001b[0m: can only concatenate str (not \"int\") to str"
     ]
    }
   ],
   "source": [
    "# String cannot be used in arithmetic operation\n",
    "str(100) + 100"
   ]
  },
  {
   "cell_type": "code",
   "execution_count": 29,
   "metadata": {
    "colab": {
     "base_uri": "https://localhost:8080/",
     "height": 35
    },
    "executionInfo": {
     "elapsed": 8,
     "status": "ok",
     "timestamp": 1742223149588,
     "user": {
      "displayName": "Shinin Varongchayakul",
      "userId": "15136349580737597979"
     },
     "user_tz": -420
    },
    "id": "ktJSNxA8EvXu",
    "outputId": "f1bea6ff-e393-4c6d-f4fa-7473a78810c3"
   },
   "outputs": [
    {
     "data": {
      "application/vnd.google.colaboratory.intrinsic+json": {
       "type": "string"
      },
      "text/plain": [
       "'I have 100 THB.'"
      ]
     },
     "execution_count": 29,
     "metadata": {},
     "output_type": "execute_result"
    }
   ],
   "source": [
    "# Concatenate string\n",
    "\"I have \" + str(100) + \" THB.\""
   ]
  },
  {
   "cell_type": "markdown",
   "metadata": {
    "id": "o5CexfCY-pPt"
   },
   "source": [
    "### Boolean"
   ]
  },
  {
   "cell_type": "code",
   "execution_count": 30,
   "metadata": {
    "colab": {
     "base_uri": "https://localhost:8080/"
    },
    "executionInfo": {
     "elapsed": 11,
     "status": "ok",
     "timestamp": 1742223149602,
     "user": {
      "displayName": "Shinin Varongchayakul",
      "userId": "15136349580737597979"
     },
     "user_tz": -420
    },
    "id": "15zVJ0kAGANZ",
    "outputId": "739e8de9-45d1-4261-d83e-44cdb81d56a8"
   },
   "outputs": [
    {
     "data": {
      "text/plain": [
       "True"
      ]
     },
     "execution_count": 30,
     "metadata": {},
     "output_type": "execute_result"
    }
   ],
   "source": [
    "# Check for True and False\n",
    "bool(\"John\")"
   ]
  },
  {
   "cell_type": "code",
   "execution_count": 31,
   "metadata": {
    "colab": {
     "base_uri": "https://localhost:8080/"
    },
    "executionInfo": {
     "elapsed": 12,
     "status": "ok",
     "timestamp": 1742223149617,
     "user": {
      "displayName": "Shinin Varongchayakul",
      "userId": "15136349580737597979"
     },
     "user_tz": -420
    },
    "id": "ycwTmzI2G-qc",
    "outputId": "ae737db5-3a7a-4797-8945-c5b2616e6815"
   },
   "outputs": [
    {
     "data": {
      "text/plain": [
       "False"
      ]
     },
     "execution_count": 31,
     "metadata": {},
     "output_type": "execute_result"
    }
   ],
   "source": [
    "# Cases that return False\n",
    "bool(0)\n",
    "bool(\"\")\n",
    "bool(False)\n",
    "bool([])\n",
    "bool({})"
   ]
  },
  {
   "cell_type": "code",
   "execution_count": 32,
   "metadata": {
    "colab": {
     "base_uri": "https://localhost:8080/"
    },
    "executionInfo": {
     "elapsed": 23,
     "status": "ok",
     "timestamp": 1742223149637,
     "user": {
      "displayName": "Shinin Varongchayakul",
      "userId": "15136349580737597979"
     },
     "user_tz": -420
    },
    "id": "YI7bj7eAHgLb",
    "outputId": "e4f2d83d-6d22-4197-baff-fdaee41b844f"
   },
   "outputs": [
    {
     "data": {
      "text/plain": [
       "True"
      ]
     },
     "execution_count": 32,
     "metadata": {},
     "output_type": "execute_result"
    }
   ],
   "source": [
    "# Compare to return boolean\n",
    "10 > 5"
   ]
  },
  {
   "cell_type": "code",
   "execution_count": 33,
   "metadata": {
    "colab": {
     "base_uri": "https://localhost:8080/"
    },
    "executionInfo": {
     "elapsed": 38,
     "status": "ok",
     "timestamp": 1742223149674,
     "user": {
      "displayName": "Shinin Varongchayakul",
      "userId": "15136349580737597979"
     },
     "user_tz": -420
    },
    "id": "_oLltpYPHjr0",
    "outputId": "c206cbcc-8f9f-4691-e409-face55e4f053"
   },
   "outputs": [
    {
     "data": {
      "text/plain": [
       "False"
      ]
     },
     "execution_count": 33,
     "metadata": {},
     "output_type": "execute_result"
    }
   ],
   "source": [
    "# Compare to return boolean\n",
    "10 < 5"
   ]
  },
  {
   "cell_type": "markdown",
   "metadata": {
    "id": "zW7xcZ6IH0eg"
   },
   "source": [
    "\n",
    "### List"
   ]
  },
  {
   "cell_type": "code",
   "execution_count": 34,
   "metadata": {
    "executionInfo": {
     "elapsed": 11,
     "status": "ok",
     "timestamp": 1742223149686,
     "user": {
      "displayName": "Shinin Varongchayakul",
      "userId": "15136349580737597979"
     },
     "user_tz": -420
    },
    "id": "xOGqgQZ9H3q5"
   },
   "outputs": [],
   "source": [
    "# List can store data of different types\n",
    "a_list = [10, 15.94, \"ok\", True, [\"egg\", \"milk\"], {\"store\": \"Walmart\"}]"
   ]
  },
  {
   "cell_type": "code",
   "execution_count": 35,
   "metadata": {
    "colab": {
     "base_uri": "https://localhost:8080/",
     "height": 35
    },
    "executionInfo": {
     "elapsed": 20,
     "status": "ok",
     "timestamp": 1742223149697,
     "user": {
      "displayName": "Shinin Varongchayakul",
      "userId": "15136349580737597979"
     },
     "user_tz": -420
    },
    "id": "pPuCblQ9M-Id",
    "outputId": "660741cd-13ce-4d47-e8cf-0a3f7c5c4c5d"
   },
   "outputs": [
    {
     "data": {
      "application/vnd.google.colaboratory.intrinsic+json": {
       "type": "string"
      },
      "text/plain": [
       "'apple'"
      ]
     },
     "execution_count": 35,
     "metadata": {},
     "output_type": "execute_result"
    }
   ],
   "source": [
    "# Indexing and slicing\n",
    "\n",
    "## A list\n",
    "my_list = [\"apple\", \"banana\", \"cherry\"]\n",
    "\n",
    "\n",
    "## Get \"apple\"\n",
    "my_list[0]"
   ]
  },
  {
   "cell_type": "code",
   "execution_count": 36,
   "metadata": {
    "colab": {
     "base_uri": "https://localhost:8080/"
    },
    "executionInfo": {
     "elapsed": 16,
     "status": "ok",
     "timestamp": 1742223149699,
     "user": {
      "displayName": "Shinin Varongchayakul",
      "userId": "15136349580737597979"
     },
     "user_tz": -420
    },
    "id": "mt09xMyMNDFG",
    "outputId": "f23f7224-eb9d-4ef1-b38d-61bee44bd1f3"
   },
   "outputs": [
    {
     "data": {
      "text/plain": [
       "['apple', 'banana', 'cherry']"
      ]
     },
     "execution_count": 36,
     "metadata": {},
     "output_type": "execute_result"
    }
   ],
   "source": [
    "## Get \"apple\" to \"cherry\"\n",
    "my_list[0:3]"
   ]
  },
  {
   "cell_type": "code",
   "execution_count": 37,
   "metadata": {
    "colab": {
     "base_uri": "https://localhost:8080/"
    },
    "executionInfo": {
     "elapsed": 12,
     "status": "ok",
     "timestamp": 1742223149710,
     "user": {
      "displayName": "Shinin Varongchayakul",
      "userId": "15136349580737597979"
     },
     "user_tz": -420
    },
    "id": "X60Ll6w_N67P",
    "outputId": "e2d7a7a8-3290-41b6-ae7b-25916a59c37d"
   },
   "outputs": [
    {
     "data": {
      "text/plain": [
       "3"
      ]
     },
     "execution_count": 37,
     "metadata": {},
     "output_type": "execute_result"
    }
   ],
   "source": [
    "# Check length\n",
    "len(my_list)"
   ]
  },
  {
   "cell_type": "code",
   "execution_count": 52,
   "metadata": {
    "colab": {
     "base_uri": "https://localhost:8080/"
    },
    "executionInfo": {
     "elapsed": 10,
     "status": "ok",
     "timestamp": 1742223201369,
     "user": {
      "displayName": "Shinin Varongchayakul",
      "userId": "15136349580737597979"
     },
     "user_tz": -420
    },
    "id": "d2mQNtS8Pevx",
    "outputId": "06920318-9c12-4e6f-fc55-bb287614edee"
   },
   "outputs": [
    {
     "data": {
      "text/plain": [
       "['apple', 'banana', 'cherry', 'orange']"
      ]
     },
     "execution_count": 52,
     "metadata": {},
     "output_type": "execute_result"
    }
   ],
   "source": [
    "# append()\n",
    "my_list.append(\"orange\")\n",
    "\n",
    "my_list"
   ]
  },
  {
   "cell_type": "code",
   "execution_count": 39,
   "metadata": {
    "colab": {
     "base_uri": "https://localhost:8080/"
    },
    "executionInfo": {
     "elapsed": 15,
     "status": "ok",
     "timestamp": 1742223149756,
     "user": {
      "displayName": "Shinin Varongchayakul",
      "userId": "15136349580737597979"
     },
     "user_tz": -420
    },
    "id": "nXQNJJd-Pzj8",
    "outputId": "9b02e00b-779f-40b5-9425-7cb69caeebd9"
   },
   "outputs": [
    {
     "data": {
      "text/plain": [
       "[1, 2, 3, 4, 5, 6]"
      ]
     },
     "execution_count": 39,
     "metadata": {},
     "output_type": "execute_result"
    }
   ],
   "source": [
    "# extend()\n",
    "list_1 = [1, 2, 3]\n",
    "list_2 = [4, 5, 6]\n",
    "\n",
    "list_1.extend(list_2)\n",
    "\n",
    "list_1"
   ]
  },
  {
   "cell_type": "code",
   "execution_count": 53,
   "metadata": {
    "colab": {
     "base_uri": "https://localhost:8080/"
    },
    "executionInfo": {
     "elapsed": 22,
     "status": "ok",
     "timestamp": 1742223203385,
     "user": {
      "displayName": "Shinin Varongchayakul",
      "userId": "15136349580737597979"
     },
     "user_tz": -420
    },
    "id": "N6waMyo_P9Xu",
    "outputId": "846a539c-b645-4044-f57c-9c4412871402"
   },
   "outputs": [
    {
     "data": {
      "text/plain": [
       "['apple', 'banana', 'cherry', 'kiwi']"
      ]
     },
     "execution_count": 53,
     "metadata": {},
     "output_type": "execute_result"
    }
   ],
   "source": [
    "# Update list\n",
    "my_list[3] = \"kiwi\"\n",
    "\n",
    "my_list"
   ]
  },
  {
   "cell_type": "code",
   "execution_count": 54,
   "metadata": {
    "colab": {
     "base_uri": "https://localhost:8080/"
    },
    "executionInfo": {
     "elapsed": 41,
     "status": "ok",
     "timestamp": 1742223214428,
     "user": {
      "displayName": "Shinin Varongchayakul",
      "userId": "15136349580737597979"
     },
     "user_tz": -420
    },
    "id": "maNYcK6IwtDQ",
    "outputId": "4a7e9e7b-9867-4b5b-c8b6-412339987fd8"
   },
   "outputs": [
    {
     "data": {
      "text/plain": [
       "['apple', 'banana', 'cherry']"
      ]
     },
     "execution_count": 54,
     "metadata": {},
     "output_type": "execute_result"
    }
   ],
   "source": [
    "# Delete from list\n",
    "my_list.remove(\"kiwi\")\n",
    "\n",
    "my_list"
   ]
  },
  {
   "cell_type": "markdown",
   "metadata": {
    "id": "JMpFXmDGwwxw"
   },
   "source": [
    "## Dictionary"
   ]
  },
  {
   "cell_type": "code",
   "execution_count": 42,
   "metadata": {
    "executionInfo": {
     "elapsed": 7,
     "status": "ok",
     "timestamp": 1742223149761,
     "user": {
      "displayName": "Shinin Varongchayakul",
      "userId": "15136349580737597979"
     },
     "user_tz": -420
    },
    "id": "xaefkpvpwyNi"
   },
   "outputs": [],
   "source": [
    "# A dictionary\n",
    "cities = {\"Thailand\": \"Bangkok\",\n",
    "          \"Japan\": \"Tokyo\",\n",
    "          \"Brazil\": \"Brasilia\"}"
   ]
  },
  {
   "cell_type": "code",
   "execution_count": 43,
   "metadata": {
    "colab": {
     "base_uri": "https://localhost:8080/",
     "height": 35
    },
    "executionInfo": {
     "elapsed": 13,
     "status": "ok",
     "timestamp": 1742223149768,
     "user": {
      "displayName": "Shinin Varongchayakul",
      "userId": "15136349580737597979"
     },
     "user_tz": -420
    },
    "id": "-kI3Isuyw12Z",
    "outputId": "0dc01ff5-4b02-4f5e-d649-232f4aa988c5"
   },
   "outputs": [
    {
     "data": {
      "application/vnd.google.colaboratory.intrinsic+json": {
       "type": "string"
      },
      "text/plain": [
       "'Tokyo'"
      ]
     },
     "execution_count": 43,
     "metadata": {},
     "output_type": "execute_result"
    }
   ],
   "source": [
    "# Extract values from list\n",
    "cities[\"Japan\"]"
   ]
  },
  {
   "cell_type": "code",
   "execution_count": 44,
   "metadata": {
    "colab": {
     "base_uri": "https://localhost:8080/"
    },
    "executionInfo": {
     "elapsed": 37,
     "status": "ok",
     "timestamp": 1742223149807,
     "user": {
      "displayName": "Shinin Varongchayakul",
      "userId": "15136349580737597979"
     },
     "user_tz": -420
    },
    "id": "mrW0Kc2lw962",
    "outputId": "3e56e8ba-41a1-46ed-c8a3-86d3dd070491"
   },
   "outputs": [
    {
     "data": {
      "text/plain": [
       "dict_keys(['Thailand', 'Japan', 'Brazil'])"
      ]
     },
     "execution_count": 44,
     "metadata": {},
     "output_type": "execute_result"
    }
   ],
   "source": [
    "# Get keys\n",
    "cities.keys()"
   ]
  },
  {
   "cell_type": "code",
   "execution_count": 45,
   "metadata": {
    "colab": {
     "base_uri": "https://localhost:8080/"
    },
    "executionInfo": {
     "elapsed": 7,
     "status": "ok",
     "timestamp": 1742223149816,
     "user": {
      "displayName": "Shinin Varongchayakul",
      "userId": "15136349580737597979"
     },
     "user_tz": -420
    },
    "id": "D7WIkN-ZxCL-",
    "outputId": "8af7aa0f-13a4-4ed7-8837-f83a4b7d23cc"
   },
   "outputs": [
    {
     "data": {
      "text/plain": [
       "dict_values(['Bangkok', 'Tokyo', 'Brasilia'])"
      ]
     },
     "execution_count": 45,
     "metadata": {},
     "output_type": "execute_result"
    }
   ],
   "source": [
    "# Get values\n",
    "cities.values()"
   ]
  },
  {
   "cell_type": "code",
   "execution_count": 55,
   "metadata": {
    "colab": {
     "base_uri": "https://localhost:8080/"
    },
    "executionInfo": {
     "elapsed": 15,
     "status": "ok",
     "timestamp": 1742225292928,
     "user": {
      "displayName": "Shinin Varongchayakul",
      "userId": "15136349580737597979"
     },
     "user_tz": -420
    },
    "id": "it1HB4hRxLTX",
    "outputId": "4b81bf13-4048-4d24-a37f-5f54fbde6f52"
   },
   "outputs": [
    {
     "data": {
      "text/plain": [
       "{'Thailand': 'Bangkok',\n",
       " 'Japan': 'Tokyo',\n",
       " 'Brazil': 'Brasilia',\n",
       " 'US': 'New York'}"
      ]
     },
     "execution_count": 55,
     "metadata": {},
     "output_type": "execute_result"
    }
   ],
   "source": [
    "# Add to dictionary\n",
    "cities[\"US\"] = \"New York\"\n",
    "\n",
    "cities"
   ]
  },
  {
   "cell_type": "code",
   "execution_count": 47,
   "metadata": {
    "colab": {
     "base_uri": "https://localhost:8080/"
    },
    "executionInfo": {
     "elapsed": 10,
     "status": "ok",
     "timestamp": 1742223149842,
     "user": {
      "displayName": "Shinin Varongchayakul",
      "userId": "15136349580737597979"
     },
     "user_tz": -420
    },
    "id": "2wjACMaKxN7F",
    "outputId": "091d8115-6f8b-40a6-df7f-601edc917755"
   },
   "outputs": [
    {
     "data": {
      "text/plain": [
       "{'Thailand': 'Bangkok',\n",
       " 'Japan': 'Tokyo',\n",
       " 'Brazil': 'Brasilia',\n",
       " 'US': 'Washington DC'}"
      ]
     },
     "execution_count": 47,
     "metadata": {},
     "output_type": "execute_result"
    }
   ],
   "source": [
    "# Update dictionary\n",
    "cities[\"US\"] = \"Washington DC\"\n",
    "\n",
    "cities"
   ]
  },
  {
   "cell_type": "code",
   "execution_count": 48,
   "metadata": {
    "colab": {
     "base_uri": "https://localhost:8080/"
    },
    "executionInfo": {
     "elapsed": 8,
     "status": "ok",
     "timestamp": 1742223149851,
     "user": {
      "displayName": "Shinin Varongchayakul",
      "userId": "15136349580737597979"
     },
     "user_tz": -420
    },
    "id": "gVuGwfcuxP2f",
    "outputId": "6e3fd438-5a20-4d79-b95b-8f672a57d65e"
   },
   "outputs": [
    {
     "data": {
      "text/plain": [
       "{'Thailand': 'Bangkok', 'Japan': 'Tokyo', 'Brazil': 'Brasilia'}"
      ]
     },
     "execution_count": 48,
     "metadata": {},
     "output_type": "execute_result"
    }
   ],
   "source": [
    "# Delete from dictionary\n",
    "del cities[\"US\"]\n",
    "\n",
    "cities"
   ]
  }
 ],
 "metadata": {
  "colab": {
   "authorship_tag": "ABX9TyNSQG6nMu/QQdeaDGdgP7KQ",
   "provenance": []
  },
  "kernelspec": {
   "display_name": "Python 3",
   "name": "python3"
  },
  "language_info": {
   "name": "python",
   "version": "3.13.1"
  }
 },
 "nbformat": 4,
 "nbformat_minor": 0
}
